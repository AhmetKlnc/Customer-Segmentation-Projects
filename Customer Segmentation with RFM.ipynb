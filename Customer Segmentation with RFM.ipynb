{
 "cells": [
  {
   "cell_type": "markdown",
   "id": "62a73de18ffe5593",
   "metadata": {},
   "source": [
    "\n",
    "# Customer Segmentation with RFM\n"
   ]
  },
  {
   "cell_type": "markdown",
   "id": "2117147d7f810945",
   "metadata": {},
   "source": [
    "# Business Problem\n",
    "\n",
    "**FLO wants to segment its customers and develop marketing strategies based on these segments. To achieve this, customer behaviors will be defined, and groups will be created based on these behavioral clusters.**"
   ]
  },
  {
   "cell_type": "markdown",
   "id": "eb7358934248ad89",
   "metadata": {},
   "source": [
    "# Dataset Story\n",
    "\n",
    "**The dataset consists of information obtained from the past shopping behaviors of customers who made their last purchases between 2020 and 2021 through OmniChannel (both online and offline shopping).**"
   ]
  },
  {
   "cell_type": "markdown",
   "id": "50445bb6e5a92bd9",
   "metadata": {},
   "source": [
    "| **Column Name**                         | **Description**                                                  |\n",
    "|-----------------------------------------|------------------------------------------------------------------|\n",
    "| `master_id`                             | Unique customer number                                          |\n",
    "| `order_channel`                         | Channel used for shopping (Android, iOS, Desktop, Mobile, Offline) |\n",
    "| `last_order_channel`                    | Channel used for the most recent purchase                        |\n",
    "| `first_order_date`                      | Date of the customer's first purchase                            |\n",
    "| `last_order_date`                       | Date of the customer's most recent purchase                      |\n",
    "| `last_order_date_online`                | Date of the customer's most recent online purchase               |\n",
    "| `last_order_date_offline`               | Date of the customer's most recent offline purchase              |\n",
    "| `order_num_total_ever_online`           | Total number of purchases made by the customer online            |\n",
    "| `order_num_total_ever_offline`          | Total number of purchases made by the customer offline           |\n",
    "| `customer_value_total_ever_offline`     | Total amount spent by the customer on offline purchases          |\n",
    "| `customer_value_total_ever_online`      | Total amount spent by the customer on online purchases           |\n",
    "| `interested_in_categories_12`           | List of categories the customer has shopped in the last 12 months |"
   ]
  },
  {
   "cell_type": "markdown",
   "id": "575b3ab8404a0938",
   "metadata": {},
   "source": [
    "# Data Understanding"
   ]
  },
  {
   "cell_type": "code",
   "execution_count": 5,
   "id": "initial_id",
   "metadata": {
    "ExecuteTime": {
     "end_time": "2024-08-28T23:40:33.672331Z",
     "start_time": "2024-08-28T23:40:32.133094Z"
    },
    "collapsed": true
   },
   "outputs": [],
   "source": [
    "import pandas as pd\n",
    "import datetime as dt\n",
    "import matplotlib.pyplot as plt\n",
    "import seaborn as sns\n",
    "pd.set_option('display.max_columns', None)\n",
    "pd.set_option('display.max_rows', None)\n",
    "pd.set_option('display.float_format', lambda x: '%.2f' % x)\n",
    "pd.set_option('display.width',1000)"
   ]
  },
  {
   "cell_type": "code",
   "execution_count": 6,
   "id": "f053fb005a86414e",
   "metadata": {
    "ExecuteTime": {
     "end_time": "2024-08-28T22:05:17.005909Z",
     "start_time": "2024-08-28T22:05:16.946100Z"
    }
   },
   "outputs": [],
   "source": [
    "df_ = pd.read_csv(r\"C:\\Users\\Ahmet\\Desktop\\DSbtcmp\\Modül3\\FLOMusteriSegmentasyonu\\flo_data_20k.csv\")"
   ]
  },
  {
   "cell_type": "code",
   "execution_count": 7,
   "id": "ccb1329efbf12429",
   "metadata": {
    "ExecuteTime": {
     "end_time": "2024-08-28T22:05:22.044666Z",
     "start_time": "2024-08-28T22:05:22.027911Z"
    }
   },
   "outputs": [],
   "source": [
    "df = df_.copy()"
   ]
  },
  {
   "cell_type": "code",
   "execution_count": 8,
   "id": "1a5658b7553aa752",
   "metadata": {
    "ExecuteTime": {
     "end_time": "2024-08-28T22:05:24.619388Z",
     "start_time": "2024-08-28T22:05:24.606187Z"
    }
   },
   "outputs": [
    {
     "data": {
      "text/html": [
       "<div>\n",
       "<style scoped>\n",
       "    .dataframe tbody tr th:only-of-type {\n",
       "        vertical-align: middle;\n",
       "    }\n",
       "\n",
       "    .dataframe tbody tr th {\n",
       "        vertical-align: top;\n",
       "    }\n",
       "\n",
       "    .dataframe thead th {\n",
       "        text-align: right;\n",
       "    }\n",
       "</style>\n",
       "<table border=\"1\" class=\"dataframe\">\n",
       "  <thead>\n",
       "    <tr style=\"text-align: right;\">\n",
       "      <th></th>\n",
       "      <th>master_id</th>\n",
       "      <th>order_channel</th>\n",
       "      <th>last_order_channel</th>\n",
       "      <th>first_order_date</th>\n",
       "      <th>last_order_date</th>\n",
       "      <th>last_order_date_online</th>\n",
       "      <th>last_order_date_offline</th>\n",
       "      <th>order_num_total_ever_online</th>\n",
       "      <th>order_num_total_ever_offline</th>\n",
       "      <th>customer_value_total_ever_offline</th>\n",
       "      <th>customer_value_total_ever_online</th>\n",
       "      <th>interested_in_categories_12</th>\n",
       "    </tr>\n",
       "  </thead>\n",
       "  <tbody>\n",
       "    <tr>\n",
       "      <th>0</th>\n",
       "      <td>cc294636-19f0-11eb-8d74-000d3a38a36f</td>\n",
       "      <td>Android App</td>\n",
       "      <td>Offline</td>\n",
       "      <td>2020-10-30</td>\n",
       "      <td>2021-02-26</td>\n",
       "      <td>2021-02-21</td>\n",
       "      <td>2021-02-26</td>\n",
       "      <td>4.00</td>\n",
       "      <td>1.00</td>\n",
       "      <td>139.99</td>\n",
       "      <td>799.38</td>\n",
       "      <td>[KADIN]</td>\n",
       "    </tr>\n",
       "    <tr>\n",
       "      <th>1</th>\n",
       "      <td>f431bd5a-ab7b-11e9-a2fc-000d3a38a36f</td>\n",
       "      <td>Android App</td>\n",
       "      <td>Mobile</td>\n",
       "      <td>2017-02-08</td>\n",
       "      <td>2021-02-16</td>\n",
       "      <td>2021-02-16</td>\n",
       "      <td>2020-01-10</td>\n",
       "      <td>19.00</td>\n",
       "      <td>2.00</td>\n",
       "      <td>159.97</td>\n",
       "      <td>1853.58</td>\n",
       "      <td>[ERKEK, COCUK, KADIN, AKTIFSPOR]</td>\n",
       "    </tr>\n",
       "    <tr>\n",
       "      <th>2</th>\n",
       "      <td>69b69676-1a40-11ea-941b-000d3a38a36f</td>\n",
       "      <td>Android App</td>\n",
       "      <td>Android App</td>\n",
       "      <td>2019-11-27</td>\n",
       "      <td>2020-11-27</td>\n",
       "      <td>2020-11-27</td>\n",
       "      <td>2019-12-01</td>\n",
       "      <td>3.00</td>\n",
       "      <td>2.00</td>\n",
       "      <td>189.97</td>\n",
       "      <td>395.35</td>\n",
       "      <td>[ERKEK, KADIN]</td>\n",
       "    </tr>\n",
       "    <tr>\n",
       "      <th>3</th>\n",
       "      <td>1854e56c-491f-11eb-806e-000d3a38a36f</td>\n",
       "      <td>Android App</td>\n",
       "      <td>Android App</td>\n",
       "      <td>2021-01-06</td>\n",
       "      <td>2021-01-17</td>\n",
       "      <td>2021-01-17</td>\n",
       "      <td>2021-01-06</td>\n",
       "      <td>1.00</td>\n",
       "      <td>1.00</td>\n",
       "      <td>39.99</td>\n",
       "      <td>81.98</td>\n",
       "      <td>[AKTIFCOCUK, COCUK]</td>\n",
       "    </tr>\n",
       "    <tr>\n",
       "      <th>4</th>\n",
       "      <td>d6ea1074-f1f5-11e9-9346-000d3a38a36f</td>\n",
       "      <td>Desktop</td>\n",
       "      <td>Desktop</td>\n",
       "      <td>2019-08-03</td>\n",
       "      <td>2021-03-07</td>\n",
       "      <td>2021-03-07</td>\n",
       "      <td>2019-08-03</td>\n",
       "      <td>1.00</td>\n",
       "      <td>1.00</td>\n",
       "      <td>49.99</td>\n",
       "      <td>159.99</td>\n",
       "      <td>[AKTIFSPOR]</td>\n",
       "    </tr>\n",
       "  </tbody>\n",
       "</table>\n",
       "</div>"
      ],
      "text/plain": [
       "                              master_id order_channel last_order_channel first_order_date last_order_date last_order_date_online last_order_date_offline  order_num_total_ever_online  order_num_total_ever_offline  customer_value_total_ever_offline  customer_value_total_ever_online       interested_in_categories_12\n",
       "0  cc294636-19f0-11eb-8d74-000d3a38a36f   Android App            Offline       2020-10-30      2021-02-26             2021-02-21              2021-02-26                         4.00                          1.00                             139.99                            799.38                           [KADIN]\n",
       "1  f431bd5a-ab7b-11e9-a2fc-000d3a38a36f   Android App             Mobile       2017-02-08      2021-02-16             2021-02-16              2020-01-10                        19.00                          2.00                             159.97                           1853.58  [ERKEK, COCUK, KADIN, AKTIFSPOR]\n",
       "2  69b69676-1a40-11ea-941b-000d3a38a36f   Android App        Android App       2019-11-27      2020-11-27             2020-11-27              2019-12-01                         3.00                          2.00                             189.97                            395.35                    [ERKEK, KADIN]\n",
       "3  1854e56c-491f-11eb-806e-000d3a38a36f   Android App        Android App       2021-01-06      2021-01-17             2021-01-17              2021-01-06                         1.00                          1.00                              39.99                             81.98               [AKTIFCOCUK, COCUK]\n",
       "4  d6ea1074-f1f5-11e9-9346-000d3a38a36f       Desktop            Desktop       2019-08-03      2021-03-07             2021-03-07              2019-08-03                         1.00                          1.00                              49.99                            159.99                       [AKTIFSPOR]"
      ]
     },
     "execution_count": 8,
     "metadata": {},
     "output_type": "execute_result"
    }
   ],
   "source": [
    "df.head()"
   ]
  },
  {
   "cell_type": "code",
   "execution_count": 9,
   "id": "c1a2d32625f91bd8",
   "metadata": {
    "ExecuteTime": {
     "end_time": "2024-08-28T23:54:44.052561Z",
     "start_time": "2024-08-28T23:54:44.047035Z"
    }
   },
   "outputs": [],
   "source": [
    "def check_df(dataframe, head=5):\n",
    "    print(\"##################### Shape #####################\")\n",
    "    print(dataframe.shape)\n",
    "    print(\"##################### Types #####################\")\n",
    "    print(dataframe.dtypes)\n",
    "    print(\"##################### NA #####################\")\n",
    "    print(dataframe.isnull().sum())"
   ]
  },
  {
   "cell_type": "code",
   "execution_count": 10,
   "id": "16036b166f6abbb6",
   "metadata": {
    "ExecuteTime": {
     "end_time": "2024-08-28T23:54:45.269479Z",
     "start_time": "2024-08-28T23:54:45.263815Z"
    }
   },
   "outputs": [
    {
     "name": "stdout",
     "output_type": "stream",
     "text": [
      "##################### Shape #####################\n",
      "(19945, 12)\n",
      "##################### Types #####################\n",
      "master_id                             object\n",
      "order_channel                         object\n",
      "last_order_channel                    object\n",
      "first_order_date                      object\n",
      "last_order_date                       object\n",
      "last_order_date_online                object\n",
      "last_order_date_offline               object\n",
      "order_num_total_ever_online          float64\n",
      "order_num_total_ever_offline         float64\n",
      "customer_value_total_ever_offline    float64\n",
      "customer_value_total_ever_online     float64\n",
      "interested_in_categories_12           object\n",
      "dtype: object\n",
      "##################### NA #####################\n",
      "master_id                            0\n",
      "order_channel                        0\n",
      "last_order_channel                   0\n",
      "first_order_date                     0\n",
      "last_order_date                      0\n",
      "last_order_date_online               0\n",
      "last_order_date_offline              0\n",
      "order_num_total_ever_online          0\n",
      "order_num_total_ever_offline         0\n",
      "customer_value_total_ever_offline    0\n",
      "customer_value_total_ever_online     0\n",
      "interested_in_categories_12          0\n",
      "dtype: int64\n"
     ]
    }
   ],
   "source": [
    "check_df(df)"
   ]
  },
  {
   "cell_type": "code",
   "execution_count": 11,
   "id": "16a4e9573bcbdc06",
   "metadata": {
    "ExecuteTime": {
     "end_time": "2024-08-28T22:07:15.527710Z",
     "start_time": "2024-08-28T22:07:15.497570Z"
    }
   },
   "outputs": [
    {
     "data": {
      "text/html": [
       "<div>\n",
       "<style scoped>\n",
       "    .dataframe tbody tr th:only-of-type {\n",
       "        vertical-align: middle;\n",
       "    }\n",
       "\n",
       "    .dataframe tbody tr th {\n",
       "        vertical-align: top;\n",
       "    }\n",
       "\n",
       "    .dataframe thead th {\n",
       "        text-align: right;\n",
       "    }\n",
       "</style>\n",
       "<table border=\"1\" class=\"dataframe\">\n",
       "  <thead>\n",
       "    <tr style=\"text-align: right;\">\n",
       "      <th></th>\n",
       "      <th>count</th>\n",
       "      <th>mean</th>\n",
       "      <th>std</th>\n",
       "      <th>min</th>\n",
       "      <th>25%</th>\n",
       "      <th>50%</th>\n",
       "      <th>75%</th>\n",
       "      <th>max</th>\n",
       "    </tr>\n",
       "  </thead>\n",
       "  <tbody>\n",
       "    <tr>\n",
       "      <th>order_num_total_ever_online</th>\n",
       "      <td>19945.00</td>\n",
       "      <td>3.11</td>\n",
       "      <td>4.23</td>\n",
       "      <td>1.00</td>\n",
       "      <td>1.00</td>\n",
       "      <td>2.00</td>\n",
       "      <td>4.00</td>\n",
       "      <td>200.00</td>\n",
       "    </tr>\n",
       "    <tr>\n",
       "      <th>order_num_total_ever_offline</th>\n",
       "      <td>19945.00</td>\n",
       "      <td>1.91</td>\n",
       "      <td>2.06</td>\n",
       "      <td>1.00</td>\n",
       "      <td>1.00</td>\n",
       "      <td>1.00</td>\n",
       "      <td>2.00</td>\n",
       "      <td>109.00</td>\n",
       "    </tr>\n",
       "    <tr>\n",
       "      <th>customer_value_total_ever_offline</th>\n",
       "      <td>19945.00</td>\n",
       "      <td>253.92</td>\n",
       "      <td>301.53</td>\n",
       "      <td>10.00</td>\n",
       "      <td>99.99</td>\n",
       "      <td>179.98</td>\n",
       "      <td>319.97</td>\n",
       "      <td>18119.14</td>\n",
       "    </tr>\n",
       "    <tr>\n",
       "      <th>customer_value_total_ever_online</th>\n",
       "      <td>19945.00</td>\n",
       "      <td>497.32</td>\n",
       "      <td>832.60</td>\n",
       "      <td>12.99</td>\n",
       "      <td>149.98</td>\n",
       "      <td>286.46</td>\n",
       "      <td>578.44</td>\n",
       "      <td>45220.13</td>\n",
       "    </tr>\n",
       "  </tbody>\n",
       "</table>\n",
       "</div>"
      ],
      "text/plain": [
       "                                     count   mean    std   min    25%    50%    75%      max\n",
       "order_num_total_ever_online       19945.00   3.11   4.23  1.00   1.00   2.00   4.00   200.00\n",
       "order_num_total_ever_offline      19945.00   1.91   2.06  1.00   1.00   1.00   2.00   109.00\n",
       "customer_value_total_ever_offline 19945.00 253.92 301.53 10.00  99.99 179.98 319.97 18119.14\n",
       "customer_value_total_ever_online  19945.00 497.32 832.60 12.99 149.98 286.46 578.44 45220.13"
      ]
     },
     "execution_count": 11,
     "metadata": {},
     "output_type": "execute_result"
    }
   ],
   "source": [
    "df.describe().T"
   ]
  },
  {
   "cell_type": "markdown",
   "id": "5415decc63fe07df",
   "metadata": {},
   "source": [
    "# Omnichannel refers to customers shopping both online and offline. We have created new variables for each customer’s total number of purchases and total spending.\n"
   ]
  },
  {
   "cell_type": "code",
   "execution_count": 12,
   "id": "f1042c497581eb1c",
   "metadata": {
    "ExecuteTime": {
     "end_time": "2024-08-28T22:11:32.571257Z",
     "start_time": "2024-08-28T22:11:32.560471Z"
    }
   },
   "outputs": [],
   "source": [
    "df[\"order_num_total\"] = df[\"order_num_total_ever_online\"] + df[\"order_num_total_ever_offline\"]\n",
    "df[\"customer_value_total\"] = df[\"customer_value_total_ever_offline\"] + df[\"customer_value_total_ever_online\"]"
   ]
  },
  {
   "cell_type": "code",
   "execution_count": 13,
   "id": "597529da513f3718",
   "metadata": {
    "ExecuteTime": {
     "end_time": "2024-08-28T22:11:39.764795Z",
     "start_time": "2024-08-28T22:11:39.754339Z"
    }
   },
   "outputs": [
    {
     "data": {
      "text/html": [
       "<div>\n",
       "<style scoped>\n",
       "    .dataframe tbody tr th:only-of-type {\n",
       "        vertical-align: middle;\n",
       "    }\n",
       "\n",
       "    .dataframe tbody tr th {\n",
       "        vertical-align: top;\n",
       "    }\n",
       "\n",
       "    .dataframe thead th {\n",
       "        text-align: right;\n",
       "    }\n",
       "</style>\n",
       "<table border=\"1\" class=\"dataframe\">\n",
       "  <thead>\n",
       "    <tr style=\"text-align: right;\">\n",
       "      <th></th>\n",
       "      <th>master_id</th>\n",
       "      <th>order_channel</th>\n",
       "      <th>last_order_channel</th>\n",
       "      <th>first_order_date</th>\n",
       "      <th>last_order_date</th>\n",
       "      <th>last_order_date_online</th>\n",
       "      <th>last_order_date_offline</th>\n",
       "      <th>order_num_total_ever_online</th>\n",
       "      <th>order_num_total_ever_offline</th>\n",
       "      <th>customer_value_total_ever_offline</th>\n",
       "      <th>customer_value_total_ever_online</th>\n",
       "      <th>interested_in_categories_12</th>\n",
       "      <th>order_num_total</th>\n",
       "      <th>customer_value_total</th>\n",
       "    </tr>\n",
       "  </thead>\n",
       "  <tbody>\n",
       "    <tr>\n",
       "      <th>0</th>\n",
       "      <td>cc294636-19f0-11eb-8d74-000d3a38a36f</td>\n",
       "      <td>Android App</td>\n",
       "      <td>Offline</td>\n",
       "      <td>2020-10-30</td>\n",
       "      <td>2021-02-26</td>\n",
       "      <td>2021-02-21</td>\n",
       "      <td>2021-02-26</td>\n",
       "      <td>4.00</td>\n",
       "      <td>1.00</td>\n",
       "      <td>139.99</td>\n",
       "      <td>799.38</td>\n",
       "      <td>[KADIN]</td>\n",
       "      <td>5.00</td>\n",
       "      <td>939.37</td>\n",
       "    </tr>\n",
       "    <tr>\n",
       "      <th>1</th>\n",
       "      <td>f431bd5a-ab7b-11e9-a2fc-000d3a38a36f</td>\n",
       "      <td>Android App</td>\n",
       "      <td>Mobile</td>\n",
       "      <td>2017-02-08</td>\n",
       "      <td>2021-02-16</td>\n",
       "      <td>2021-02-16</td>\n",
       "      <td>2020-01-10</td>\n",
       "      <td>19.00</td>\n",
       "      <td>2.00</td>\n",
       "      <td>159.97</td>\n",
       "      <td>1853.58</td>\n",
       "      <td>[ERKEK, COCUK, KADIN, AKTIFSPOR]</td>\n",
       "      <td>21.00</td>\n",
       "      <td>2013.55</td>\n",
       "    </tr>\n",
       "    <tr>\n",
       "      <th>2</th>\n",
       "      <td>69b69676-1a40-11ea-941b-000d3a38a36f</td>\n",
       "      <td>Android App</td>\n",
       "      <td>Android App</td>\n",
       "      <td>2019-11-27</td>\n",
       "      <td>2020-11-27</td>\n",
       "      <td>2020-11-27</td>\n",
       "      <td>2019-12-01</td>\n",
       "      <td>3.00</td>\n",
       "      <td>2.00</td>\n",
       "      <td>189.97</td>\n",
       "      <td>395.35</td>\n",
       "      <td>[ERKEK, KADIN]</td>\n",
       "      <td>5.00</td>\n",
       "      <td>585.32</td>\n",
       "    </tr>\n",
       "    <tr>\n",
       "      <th>3</th>\n",
       "      <td>1854e56c-491f-11eb-806e-000d3a38a36f</td>\n",
       "      <td>Android App</td>\n",
       "      <td>Android App</td>\n",
       "      <td>2021-01-06</td>\n",
       "      <td>2021-01-17</td>\n",
       "      <td>2021-01-17</td>\n",
       "      <td>2021-01-06</td>\n",
       "      <td>1.00</td>\n",
       "      <td>1.00</td>\n",
       "      <td>39.99</td>\n",
       "      <td>81.98</td>\n",
       "      <td>[AKTIFCOCUK, COCUK]</td>\n",
       "      <td>2.00</td>\n",
       "      <td>121.97</td>\n",
       "    </tr>\n",
       "    <tr>\n",
       "      <th>4</th>\n",
       "      <td>d6ea1074-f1f5-11e9-9346-000d3a38a36f</td>\n",
       "      <td>Desktop</td>\n",
       "      <td>Desktop</td>\n",
       "      <td>2019-08-03</td>\n",
       "      <td>2021-03-07</td>\n",
       "      <td>2021-03-07</td>\n",
       "      <td>2019-08-03</td>\n",
       "      <td>1.00</td>\n",
       "      <td>1.00</td>\n",
       "      <td>49.99</td>\n",
       "      <td>159.99</td>\n",
       "      <td>[AKTIFSPOR]</td>\n",
       "      <td>2.00</td>\n",
       "      <td>209.98</td>\n",
       "    </tr>\n",
       "  </tbody>\n",
       "</table>\n",
       "</div>"
      ],
      "text/plain": [
       "                              master_id order_channel last_order_channel first_order_date last_order_date last_order_date_online last_order_date_offline  order_num_total_ever_online  order_num_total_ever_offline  customer_value_total_ever_offline  customer_value_total_ever_online       interested_in_categories_12  order_num_total  customer_value_total\n",
       "0  cc294636-19f0-11eb-8d74-000d3a38a36f   Android App            Offline       2020-10-30      2021-02-26             2021-02-21              2021-02-26                         4.00                          1.00                             139.99                            799.38                           [KADIN]             5.00                939.37\n",
       "1  f431bd5a-ab7b-11e9-a2fc-000d3a38a36f   Android App             Mobile       2017-02-08      2021-02-16             2021-02-16              2020-01-10                        19.00                          2.00                             159.97                           1853.58  [ERKEK, COCUK, KADIN, AKTIFSPOR]            21.00               2013.55\n",
       "2  69b69676-1a40-11ea-941b-000d3a38a36f   Android App        Android App       2019-11-27      2020-11-27             2020-11-27              2019-12-01                         3.00                          2.00                             189.97                            395.35                    [ERKEK, KADIN]             5.00                585.32\n",
       "3  1854e56c-491f-11eb-806e-000d3a38a36f   Android App        Android App       2021-01-06      2021-01-17             2021-01-17              2021-01-06                         1.00                          1.00                              39.99                             81.98               [AKTIFCOCUK, COCUK]             2.00                121.97\n",
       "4  d6ea1074-f1f5-11e9-9346-000d3a38a36f       Desktop            Desktop       2019-08-03      2021-03-07             2021-03-07              2019-08-03                         1.00                          1.00                              49.99                            159.99                       [AKTIFSPOR]             2.00                209.98"
      ]
     },
     "execution_count": 13,
     "metadata": {},
     "output_type": "execute_result"
    }
   ],
   "source": [
    "df.head()"
   ]
  },
  {
   "cell_type": "markdown",
   "id": "1c00eac49d3c5980",
   "metadata": {},
   "source": [
    "# We examined the variable types. We converted the variables representing dates to the date type.\n",
    "\n"
   ]
  },
  {
   "cell_type": "code",
   "execution_count": 14,
   "id": "dd764714db25b13",
   "metadata": {
    "ExecuteTime": {
     "end_time": "2024-08-28T22:16:54.632215Z",
     "start_time": "2024-08-28T22:16:54.581357Z"
    }
   },
   "outputs": [
    {
     "name": "stdout",
     "output_type": "stream",
     "text": [
      "<class 'pandas.core.frame.DataFrame'>\n",
      "RangeIndex: 19945 entries, 0 to 19944\n",
      "Data columns (total 14 columns):\n",
      " #   Column                             Non-Null Count  Dtype         \n",
      "---  ------                             --------------  -----         \n",
      " 0   master_id                          19945 non-null  object        \n",
      " 1   order_channel                      19945 non-null  object        \n",
      " 2   last_order_channel                 19945 non-null  object        \n",
      " 3   first_order_date                   19945 non-null  datetime64[ns]\n",
      " 4   last_order_date                    19945 non-null  datetime64[ns]\n",
      " 5   last_order_date_online             19945 non-null  datetime64[ns]\n",
      " 6   last_order_date_offline            19945 non-null  datetime64[ns]\n",
      " 7   order_num_total_ever_online        19945 non-null  float64       \n",
      " 8   order_num_total_ever_offline       19945 non-null  float64       \n",
      " 9   customer_value_total_ever_offline  19945 non-null  float64       \n",
      " 10  customer_value_total_ever_online   19945 non-null  float64       \n",
      " 11  interested_in_categories_12        19945 non-null  object        \n",
      " 12  order_num_total                    19945 non-null  float64       \n",
      " 13  customer_value_total               19945 non-null  float64       \n",
      "dtypes: datetime64[ns](4), float64(6), object(4)\n",
      "memory usage: 2.1+ MB\n"
     ]
    }
   ],
   "source": [
    "date_columns = df.columns[df.columns.str.contains(\"date\")]\n",
    "df[date_columns] = df[date_columns].apply(pd.to_datetime)\n",
    "df.info()"
   ]
  },
  {
   "cell_type": "markdown",
   "id": "34cb49c8cd4c6f6e",
   "metadata": {},
   "source": [
    "# We examined the distribution of the number of customers across shopping channels, the average number of products purchased, and the average spending.\n"
   ]
  },
  {
   "cell_type": "code",
   "execution_count": 15,
   "id": "c6841a9c963427ff",
   "metadata": {
    "ExecuteTime": {
     "end_time": "2024-08-28T22:21:53.351050Z",
     "start_time": "2024-08-28T22:21:53.329707Z"
    }
   },
   "outputs": [
    {
     "data": {
      "text/html": [
       "<div>\n",
       "<style scoped>\n",
       "    .dataframe tbody tr th:only-of-type {\n",
       "        vertical-align: middle;\n",
       "    }\n",
       "\n",
       "    .dataframe tbody tr th {\n",
       "        vertical-align: top;\n",
       "    }\n",
       "\n",
       "    .dataframe thead th {\n",
       "        text-align: right;\n",
       "    }\n",
       "</style>\n",
       "<table border=\"1\" class=\"dataframe\">\n",
       "  <thead>\n",
       "    <tr style=\"text-align: right;\">\n",
       "      <th></th>\n",
       "      <th>master_id</th>\n",
       "      <th>order_num_total</th>\n",
       "      <th>customer_value_total</th>\n",
       "    </tr>\n",
       "    <tr>\n",
       "      <th>order_channel</th>\n",
       "      <th></th>\n",
       "      <th></th>\n",
       "      <th></th>\n",
       "    </tr>\n",
       "  </thead>\n",
       "  <tbody>\n",
       "    <tr>\n",
       "      <th>Android App</th>\n",
       "      <td>9495</td>\n",
       "      <td>5.50</td>\n",
       "      <td>823.49</td>\n",
       "    </tr>\n",
       "    <tr>\n",
       "      <th>Desktop</th>\n",
       "      <td>2735</td>\n",
       "      <td>3.99</td>\n",
       "      <td>588.78</td>\n",
       "    </tr>\n",
       "    <tr>\n",
       "      <th>Ios App</th>\n",
       "      <td>2833</td>\n",
       "      <td>5.42</td>\n",
       "      <td>891.63</td>\n",
       "    </tr>\n",
       "    <tr>\n",
       "      <th>Mobile</th>\n",
       "      <td>4882</td>\n",
       "      <td>4.44</td>\n",
       "      <td>620.28</td>\n",
       "    </tr>\n",
       "  </tbody>\n",
       "</table>\n",
       "</div>"
      ],
      "text/plain": [
       "               master_id  order_num_total  customer_value_total\n",
       "order_channel                                                  \n",
       "Android App         9495             5.50                823.49\n",
       "Desktop             2735             3.99                588.78\n",
       "Ios App             2833             5.42                891.63\n",
       "Mobile              4882             4.44                620.28"
      ]
     },
     "execution_count": 15,
     "metadata": {},
     "output_type": "execute_result"
    }
   ],
   "source": [
    "df.groupby(\"order_channel\").agg({\"master_id\": \"count\",\n",
    "                                 \"order_num_total\": \"mean\",\n",
    "                                 \"customer_value_total\": \"mean\"})"
   ]
  },
  {
   "cell_type": "markdown",
   "id": "35532d4dddca8d0e",
   "metadata": {},
   "source": [
    "# We ranked the top 10 customers who generated the highest revenue."
   ]
  },
  {
   "cell_type": "code",
   "execution_count": 16,
   "id": "7025373f97c82e8f",
   "metadata": {
    "ExecuteTime": {
     "end_time": "2024-08-28T22:23:26.795765Z",
     "start_time": "2024-08-28T22:23:26.778646Z"
    }
   },
   "outputs": [
    {
     "data": {
      "text/html": [
       "<div>\n",
       "<style scoped>\n",
       "    .dataframe tbody tr th:only-of-type {\n",
       "        vertical-align: middle;\n",
       "    }\n",
       "\n",
       "    .dataframe tbody tr th {\n",
       "        vertical-align: top;\n",
       "    }\n",
       "\n",
       "    .dataframe thead th {\n",
       "        text-align: right;\n",
       "    }\n",
       "</style>\n",
       "<table border=\"1\" class=\"dataframe\">\n",
       "  <thead>\n",
       "    <tr style=\"text-align: right;\">\n",
       "      <th></th>\n",
       "      <th>master_id</th>\n",
       "      <th>order_channel</th>\n",
       "      <th>last_order_channel</th>\n",
       "      <th>first_order_date</th>\n",
       "      <th>last_order_date</th>\n",
       "      <th>last_order_date_online</th>\n",
       "      <th>last_order_date_offline</th>\n",
       "      <th>order_num_total_ever_online</th>\n",
       "      <th>order_num_total_ever_offline</th>\n",
       "      <th>customer_value_total_ever_offline</th>\n",
       "      <th>customer_value_total_ever_online</th>\n",
       "      <th>interested_in_categories_12</th>\n",
       "      <th>order_num_total</th>\n",
       "      <th>customer_value_total</th>\n",
       "    </tr>\n",
       "  </thead>\n",
       "  <tbody>\n",
       "    <tr>\n",
       "      <th>11150</th>\n",
       "      <td>5d1c466a-9cfd-11e9-9897-000d3a38a36f</td>\n",
       "      <td>Android App</td>\n",
       "      <td>Desktop</td>\n",
       "      <td>2013-10-11</td>\n",
       "      <td>2021-04-30</td>\n",
       "      <td>2021-04-30</td>\n",
       "      <td>2020-12-24</td>\n",
       "      <td>200.00</td>\n",
       "      <td>2.00</td>\n",
       "      <td>684.97</td>\n",
       "      <td>45220.13</td>\n",
       "      <td>[AKTIFCOCUK, ERKEK, COCUK, KADIN, AKTIFSPOR]</td>\n",
       "      <td>202.00</td>\n",
       "      <td>45905.10</td>\n",
       "    </tr>\n",
       "    <tr>\n",
       "      <th>4315</th>\n",
       "      <td>d5ef8058-a5c6-11e9-a2fc-000d3a38a36f</td>\n",
       "      <td>Android App</td>\n",
       "      <td>Android App</td>\n",
       "      <td>2018-08-06</td>\n",
       "      <td>2021-02-23</td>\n",
       "      <td>2021-02-23</td>\n",
       "      <td>2020-07-06</td>\n",
       "      <td>67.00</td>\n",
       "      <td>1.00</td>\n",
       "      <td>130.49</td>\n",
       "      <td>36687.80</td>\n",
       "      <td>[AKTIFCOCUK, ERKEK, KADIN, AKTIFSPOR]</td>\n",
       "      <td>68.00</td>\n",
       "      <td>36818.29</td>\n",
       "    </tr>\n",
       "    <tr>\n",
       "      <th>7613</th>\n",
       "      <td>73fd19aa-9e37-11e9-9897-000d3a38a36f</td>\n",
       "      <td>Ios App</td>\n",
       "      <td>Offline</td>\n",
       "      <td>2014-01-14</td>\n",
       "      <td>2021-05-18</td>\n",
       "      <td>2021-01-30</td>\n",
       "      <td>2021-05-18</td>\n",
       "      <td>81.00</td>\n",
       "      <td>1.00</td>\n",
       "      <td>1263.76</td>\n",
       "      <td>32654.34</td>\n",
       "      <td>[ERKEK, COCUK, KADIN, AKTIFSPOR]</td>\n",
       "      <td>82.00</td>\n",
       "      <td>33918.10</td>\n",
       "    </tr>\n",
       "    <tr>\n",
       "      <th>13880</th>\n",
       "      <td>7137a5c0-7aad-11ea-8f20-000d3a38a36f</td>\n",
       "      <td>Ios App</td>\n",
       "      <td>Offline</td>\n",
       "      <td>2021-03-01</td>\n",
       "      <td>2021-04-13</td>\n",
       "      <td>2021-03-18</td>\n",
       "      <td>2021-04-13</td>\n",
       "      <td>10.00</td>\n",
       "      <td>1.00</td>\n",
       "      <td>538.94</td>\n",
       "      <td>30688.47</td>\n",
       "      <td>[ERKEK, KADIN, AKTIFSPOR]</td>\n",
       "      <td>11.00</td>\n",
       "      <td>31227.41</td>\n",
       "    </tr>\n",
       "    <tr>\n",
       "      <th>9055</th>\n",
       "      <td>47a642fe-975b-11eb-8c2a-000d3a38a36f</td>\n",
       "      <td>Android App</td>\n",
       "      <td>Offline</td>\n",
       "      <td>2021-04-07</td>\n",
       "      <td>2021-04-27</td>\n",
       "      <td>2021-04-07</td>\n",
       "      <td>2021-04-27</td>\n",
       "      <td>1.00</td>\n",
       "      <td>3.00</td>\n",
       "      <td>18119.14</td>\n",
       "      <td>2587.20</td>\n",
       "      <td>[AKTIFSPOR]</td>\n",
       "      <td>4.00</td>\n",
       "      <td>20706.34</td>\n",
       "    </tr>\n",
       "    <tr>\n",
       "      <th>7330</th>\n",
       "      <td>a4d534a2-5b1b-11eb-8dbd-000d3a38a36f</td>\n",
       "      <td>Desktop</td>\n",
       "      <td>Desktop</td>\n",
       "      <td>2020-02-16</td>\n",
       "      <td>2021-04-30</td>\n",
       "      <td>2021-04-30</td>\n",
       "      <td>2020-12-18</td>\n",
       "      <td>66.00</td>\n",
       "      <td>4.00</td>\n",
       "      <td>843.68</td>\n",
       "      <td>17599.89</td>\n",
       "      <td>[ERKEK, KADIN, AKTIFSPOR]</td>\n",
       "      <td>70.00</td>\n",
       "      <td>18443.57</td>\n",
       "    </tr>\n",
       "    <tr>\n",
       "      <th>8068</th>\n",
       "      <td>d696c654-2633-11ea-8e1c-000d3a38a36f</td>\n",
       "      <td>Ios App</td>\n",
       "      <td>Ios App</td>\n",
       "      <td>2017-05-10</td>\n",
       "      <td>2021-04-13</td>\n",
       "      <td>2021-04-13</td>\n",
       "      <td>2019-08-15</td>\n",
       "      <td>69.00</td>\n",
       "      <td>1.00</td>\n",
       "      <td>82.48</td>\n",
       "      <td>16836.09</td>\n",
       "      <td>[AKTIFCOCUK, ERKEK, COCUK, KADIN, AKTIFSPOR]</td>\n",
       "      <td>70.00</td>\n",
       "      <td>16918.57</td>\n",
       "    </tr>\n",
       "    <tr>\n",
       "      <th>163</th>\n",
       "      <td>fef57ffa-aae6-11e9-a2fc-000d3a38a36f</td>\n",
       "      <td>Mobile</td>\n",
       "      <td>Desktop</td>\n",
       "      <td>2016-11-08</td>\n",
       "      <td>2021-05-12</td>\n",
       "      <td>2021-05-12</td>\n",
       "      <td>2020-07-09</td>\n",
       "      <td>36.00</td>\n",
       "      <td>1.00</td>\n",
       "      <td>180.73</td>\n",
       "      <td>12545.37</td>\n",
       "      <td>[ERKEK, AKTIFSPOR]</td>\n",
       "      <td>37.00</td>\n",
       "      <td>12726.10</td>\n",
       "    </tr>\n",
       "    <tr>\n",
       "      <th>7223</th>\n",
       "      <td>cba59206-9dd1-11e9-9897-000d3a38a36f</td>\n",
       "      <td>Android App</td>\n",
       "      <td>Android App</td>\n",
       "      <td>2013-02-21</td>\n",
       "      <td>2021-05-09</td>\n",
       "      <td>2021-05-09</td>\n",
       "      <td>2020-01-25</td>\n",
       "      <td>130.00</td>\n",
       "      <td>1.00</td>\n",
       "      <td>49.99</td>\n",
       "      <td>12232.25</td>\n",
       "      <td>[AKTIFCOCUK, ERKEK, KADIN, AKTIFSPOR]</td>\n",
       "      <td>131.00</td>\n",
       "      <td>12282.24</td>\n",
       "    </tr>\n",
       "    <tr>\n",
       "      <th>18767</th>\n",
       "      <td>fc0ce7a4-9d87-11e9-9897-000d3a38a36f</td>\n",
       "      <td>Desktop</td>\n",
       "      <td>Desktop</td>\n",
       "      <td>2018-11-24</td>\n",
       "      <td>2020-11-11</td>\n",
       "      <td>2020-11-11</td>\n",
       "      <td>2019-12-06</td>\n",
       "      <td>18.00</td>\n",
       "      <td>2.00</td>\n",
       "      <td>64.97</td>\n",
       "      <td>12038.18</td>\n",
       "      <td>[ERKEK, KADIN]</td>\n",
       "      <td>20.00</td>\n",
       "      <td>12103.15</td>\n",
       "    </tr>\n",
       "  </tbody>\n",
       "</table>\n",
       "</div>"
      ],
      "text/plain": [
       "                                  master_id order_channel last_order_channel first_order_date last_order_date last_order_date_online last_order_date_offline  order_num_total_ever_online  order_num_total_ever_offline  customer_value_total_ever_offline  customer_value_total_ever_online                   interested_in_categories_12  order_num_total  customer_value_total\n",
       "11150  5d1c466a-9cfd-11e9-9897-000d3a38a36f   Android App            Desktop       2013-10-11      2021-04-30             2021-04-30              2020-12-24                       200.00                          2.00                             684.97                          45220.13  [AKTIFCOCUK, ERKEK, COCUK, KADIN, AKTIFSPOR]           202.00              45905.10\n",
       "4315   d5ef8058-a5c6-11e9-a2fc-000d3a38a36f   Android App        Android App       2018-08-06      2021-02-23             2021-02-23              2020-07-06                        67.00                          1.00                             130.49                          36687.80         [AKTIFCOCUK, ERKEK, KADIN, AKTIFSPOR]            68.00              36818.29\n",
       "7613   73fd19aa-9e37-11e9-9897-000d3a38a36f       Ios App            Offline       2014-01-14      2021-05-18             2021-01-30              2021-05-18                        81.00                          1.00                            1263.76                          32654.34              [ERKEK, COCUK, KADIN, AKTIFSPOR]            82.00              33918.10\n",
       "13880  7137a5c0-7aad-11ea-8f20-000d3a38a36f       Ios App            Offline       2021-03-01      2021-04-13             2021-03-18              2021-04-13                        10.00                          1.00                             538.94                          30688.47                     [ERKEK, KADIN, AKTIFSPOR]            11.00              31227.41\n",
       "9055   47a642fe-975b-11eb-8c2a-000d3a38a36f   Android App            Offline       2021-04-07      2021-04-27             2021-04-07              2021-04-27                         1.00                          3.00                           18119.14                           2587.20                                   [AKTIFSPOR]             4.00              20706.34\n",
       "7330   a4d534a2-5b1b-11eb-8dbd-000d3a38a36f       Desktop            Desktop       2020-02-16      2021-04-30             2021-04-30              2020-12-18                        66.00                          4.00                             843.68                          17599.89                     [ERKEK, KADIN, AKTIFSPOR]            70.00              18443.57\n",
       "8068   d696c654-2633-11ea-8e1c-000d3a38a36f       Ios App            Ios App       2017-05-10      2021-04-13             2021-04-13              2019-08-15                        69.00                          1.00                              82.48                          16836.09  [AKTIFCOCUK, ERKEK, COCUK, KADIN, AKTIFSPOR]            70.00              16918.57\n",
       "163    fef57ffa-aae6-11e9-a2fc-000d3a38a36f        Mobile            Desktop       2016-11-08      2021-05-12             2021-05-12              2020-07-09                        36.00                          1.00                             180.73                          12545.37                            [ERKEK, AKTIFSPOR]            37.00              12726.10\n",
       "7223   cba59206-9dd1-11e9-9897-000d3a38a36f   Android App        Android App       2013-02-21      2021-05-09             2021-05-09              2020-01-25                       130.00                          1.00                              49.99                          12232.25         [AKTIFCOCUK, ERKEK, KADIN, AKTIFSPOR]           131.00              12282.24\n",
       "18767  fc0ce7a4-9d87-11e9-9897-000d3a38a36f       Desktop            Desktop       2018-11-24      2020-11-11             2020-11-11              2019-12-06                        18.00                          2.00                              64.97                          12038.18                                [ERKEK, KADIN]            20.00              12103.15"
      ]
     },
     "execution_count": 16,
     "metadata": {},
     "output_type": "execute_result"
    }
   ],
   "source": [
    "df.sort_values(\"customer_value_total\", ascending=False).head(10)"
   ]
  },
  {
   "cell_type": "markdown",
   "id": "6f1d472caf7ffa1f",
   "metadata": {},
   "source": [
    "# We ranked the top 10 customers with the highest number of orders."
   ]
  },
  {
   "cell_type": "code",
   "execution_count": 17,
   "id": "cdaf695fd4aaca84",
   "metadata": {
    "ExecuteTime": {
     "end_time": "2024-08-28T22:24:08.848198Z",
     "start_time": "2024-08-28T22:24:08.825563Z"
    }
   },
   "outputs": [
    {
     "data": {
      "text/html": [
       "<div>\n",
       "<style scoped>\n",
       "    .dataframe tbody tr th:only-of-type {\n",
       "        vertical-align: middle;\n",
       "    }\n",
       "\n",
       "    .dataframe tbody tr th {\n",
       "        vertical-align: top;\n",
       "    }\n",
       "\n",
       "    .dataframe thead th {\n",
       "        text-align: right;\n",
       "    }\n",
       "</style>\n",
       "<table border=\"1\" class=\"dataframe\">\n",
       "  <thead>\n",
       "    <tr style=\"text-align: right;\">\n",
       "      <th></th>\n",
       "      <th>master_id</th>\n",
       "      <th>order_channel</th>\n",
       "      <th>last_order_channel</th>\n",
       "      <th>first_order_date</th>\n",
       "      <th>last_order_date</th>\n",
       "      <th>last_order_date_online</th>\n",
       "      <th>last_order_date_offline</th>\n",
       "      <th>order_num_total_ever_online</th>\n",
       "      <th>order_num_total_ever_offline</th>\n",
       "      <th>customer_value_total_ever_offline</th>\n",
       "      <th>customer_value_total_ever_online</th>\n",
       "      <th>interested_in_categories_12</th>\n",
       "      <th>order_num_total</th>\n",
       "      <th>customer_value_total</th>\n",
       "    </tr>\n",
       "  </thead>\n",
       "  <tbody>\n",
       "    <tr>\n",
       "      <th>11150</th>\n",
       "      <td>5d1c466a-9cfd-11e9-9897-000d3a38a36f</td>\n",
       "      <td>Android App</td>\n",
       "      <td>Desktop</td>\n",
       "      <td>2013-10-11</td>\n",
       "      <td>2021-04-30</td>\n",
       "      <td>2021-04-30</td>\n",
       "      <td>2020-12-24</td>\n",
       "      <td>200.00</td>\n",
       "      <td>2.00</td>\n",
       "      <td>684.97</td>\n",
       "      <td>45220.13</td>\n",
       "      <td>[AKTIFCOCUK, ERKEK, COCUK, KADIN, AKTIFSPOR]</td>\n",
       "      <td>202.00</td>\n",
       "      <td>45905.10</td>\n",
       "    </tr>\n",
       "    <tr>\n",
       "      <th>7223</th>\n",
       "      <td>cba59206-9dd1-11e9-9897-000d3a38a36f</td>\n",
       "      <td>Android App</td>\n",
       "      <td>Android App</td>\n",
       "      <td>2013-02-21</td>\n",
       "      <td>2021-05-09</td>\n",
       "      <td>2021-05-09</td>\n",
       "      <td>2020-01-25</td>\n",
       "      <td>130.00</td>\n",
       "      <td>1.00</td>\n",
       "      <td>49.99</td>\n",
       "      <td>12232.25</td>\n",
       "      <td>[AKTIFCOCUK, ERKEK, KADIN, AKTIFSPOR]</td>\n",
       "      <td>131.00</td>\n",
       "      <td>12282.24</td>\n",
       "    </tr>\n",
       "    <tr>\n",
       "      <th>8783</th>\n",
       "      <td>a57f4302-b1a8-11e9-89fa-000d3a38a36f</td>\n",
       "      <td>Android App</td>\n",
       "      <td>Offline</td>\n",
       "      <td>2019-08-07</td>\n",
       "      <td>2020-11-04</td>\n",
       "      <td>2020-09-07</td>\n",
       "      <td>2020-11-04</td>\n",
       "      <td>2.00</td>\n",
       "      <td>109.00</td>\n",
       "      <td>10239.46</td>\n",
       "      <td>143.98</td>\n",
       "      <td>[AKTIFCOCUK, ERKEK, COCUK, KADIN, AKTIFSPOR]</td>\n",
       "      <td>111.00</td>\n",
       "      <td>10383.44</td>\n",
       "    </tr>\n",
       "    <tr>\n",
       "      <th>2619</th>\n",
       "      <td>fdbe8304-a7ab-11e9-a2fc-000d3a38a36f</td>\n",
       "      <td>Android App</td>\n",
       "      <td>Offline</td>\n",
       "      <td>2018-10-18</td>\n",
       "      <td>2020-06-30</td>\n",
       "      <td>2018-10-18</td>\n",
       "      <td>2020-06-30</td>\n",
       "      <td>1.00</td>\n",
       "      <td>87.00</td>\n",
       "      <td>8432.25</td>\n",
       "      <td>139.98</td>\n",
       "      <td>[ERKEK]</td>\n",
       "      <td>88.00</td>\n",
       "      <td>8572.23</td>\n",
       "    </tr>\n",
       "    <tr>\n",
       "      <th>6322</th>\n",
       "      <td>329968c6-a0e2-11e9-a2fc-000d3a38a36f</td>\n",
       "      <td>Ios App</td>\n",
       "      <td>Ios App</td>\n",
       "      <td>2019-02-14</td>\n",
       "      <td>2021-04-05</td>\n",
       "      <td>2021-04-05</td>\n",
       "      <td>2020-02-17</td>\n",
       "      <td>2.00</td>\n",
       "      <td>81.00</td>\n",
       "      <td>3997.55</td>\n",
       "      <td>242.81</td>\n",
       "      <td>[ERKEK]</td>\n",
       "      <td>83.00</td>\n",
       "      <td>4240.36</td>\n",
       "    </tr>\n",
       "    <tr>\n",
       "      <th>7613</th>\n",
       "      <td>73fd19aa-9e37-11e9-9897-000d3a38a36f</td>\n",
       "      <td>Ios App</td>\n",
       "      <td>Offline</td>\n",
       "      <td>2014-01-14</td>\n",
       "      <td>2021-05-18</td>\n",
       "      <td>2021-01-30</td>\n",
       "      <td>2021-05-18</td>\n",
       "      <td>81.00</td>\n",
       "      <td>1.00</td>\n",
       "      <td>1263.76</td>\n",
       "      <td>32654.34</td>\n",
       "      <td>[ERKEK, COCUK, KADIN, AKTIFSPOR]</td>\n",
       "      <td>82.00</td>\n",
       "      <td>33918.10</td>\n",
       "    </tr>\n",
       "    <tr>\n",
       "      <th>9347</th>\n",
       "      <td>44d032ee-a0d4-11e9-a2fc-000d3a38a36f</td>\n",
       "      <td>Mobile</td>\n",
       "      <td>Mobile</td>\n",
       "      <td>2019-02-11</td>\n",
       "      <td>2021-02-11</td>\n",
       "      <td>2021-02-11</td>\n",
       "      <td>2020-12-24</td>\n",
       "      <td>3.00</td>\n",
       "      <td>74.00</td>\n",
       "      <td>4640.77</td>\n",
       "      <td>543.28</td>\n",
       "      <td>[KADIN, AKTIFSPOR]</td>\n",
       "      <td>77.00</td>\n",
       "      <td>5184.05</td>\n",
       "    </tr>\n",
       "    <tr>\n",
       "      <th>10954</th>\n",
       "      <td>b27e241a-a901-11e9-a2fc-000d3a38a36f</td>\n",
       "      <td>Mobile</td>\n",
       "      <td>Mobile</td>\n",
       "      <td>2015-09-12</td>\n",
       "      <td>2021-04-01</td>\n",
       "      <td>2021-04-01</td>\n",
       "      <td>2019-10-08</td>\n",
       "      <td>72.00</td>\n",
       "      <td>3.00</td>\n",
       "      <td>292.93</td>\n",
       "      <td>5004.95</td>\n",
       "      <td>[AKTIFCOCUK, ERKEK, KADIN, AKTIFSPOR]</td>\n",
       "      <td>75.00</td>\n",
       "      <td>5297.88</td>\n",
       "    </tr>\n",
       "    <tr>\n",
       "      <th>8068</th>\n",
       "      <td>d696c654-2633-11ea-8e1c-000d3a38a36f</td>\n",
       "      <td>Ios App</td>\n",
       "      <td>Ios App</td>\n",
       "      <td>2017-05-10</td>\n",
       "      <td>2021-04-13</td>\n",
       "      <td>2021-04-13</td>\n",
       "      <td>2019-08-15</td>\n",
       "      <td>69.00</td>\n",
       "      <td>1.00</td>\n",
       "      <td>82.48</td>\n",
       "      <td>16836.09</td>\n",
       "      <td>[AKTIFCOCUK, ERKEK, COCUK, KADIN, AKTIFSPOR]</td>\n",
       "      <td>70.00</td>\n",
       "      <td>16918.57</td>\n",
       "    </tr>\n",
       "    <tr>\n",
       "      <th>7330</th>\n",
       "      <td>a4d534a2-5b1b-11eb-8dbd-000d3a38a36f</td>\n",
       "      <td>Desktop</td>\n",
       "      <td>Desktop</td>\n",
       "      <td>2020-02-16</td>\n",
       "      <td>2021-04-30</td>\n",
       "      <td>2021-04-30</td>\n",
       "      <td>2020-12-18</td>\n",
       "      <td>66.00</td>\n",
       "      <td>4.00</td>\n",
       "      <td>843.68</td>\n",
       "      <td>17599.89</td>\n",
       "      <td>[ERKEK, KADIN, AKTIFSPOR]</td>\n",
       "      <td>70.00</td>\n",
       "      <td>18443.57</td>\n",
       "    </tr>\n",
       "  </tbody>\n",
       "</table>\n",
       "</div>"
      ],
      "text/plain": [
       "                                  master_id order_channel last_order_channel first_order_date last_order_date last_order_date_online last_order_date_offline  order_num_total_ever_online  order_num_total_ever_offline  customer_value_total_ever_offline  customer_value_total_ever_online                   interested_in_categories_12  order_num_total  customer_value_total\n",
       "11150  5d1c466a-9cfd-11e9-9897-000d3a38a36f   Android App            Desktop       2013-10-11      2021-04-30             2021-04-30              2020-12-24                       200.00                          2.00                             684.97                          45220.13  [AKTIFCOCUK, ERKEK, COCUK, KADIN, AKTIFSPOR]           202.00              45905.10\n",
       "7223   cba59206-9dd1-11e9-9897-000d3a38a36f   Android App        Android App       2013-02-21      2021-05-09             2021-05-09              2020-01-25                       130.00                          1.00                              49.99                          12232.25         [AKTIFCOCUK, ERKEK, KADIN, AKTIFSPOR]           131.00              12282.24\n",
       "8783   a57f4302-b1a8-11e9-89fa-000d3a38a36f   Android App            Offline       2019-08-07      2020-11-04             2020-09-07              2020-11-04                         2.00                        109.00                           10239.46                            143.98  [AKTIFCOCUK, ERKEK, COCUK, KADIN, AKTIFSPOR]           111.00              10383.44\n",
       "2619   fdbe8304-a7ab-11e9-a2fc-000d3a38a36f   Android App            Offline       2018-10-18      2020-06-30             2018-10-18              2020-06-30                         1.00                         87.00                            8432.25                            139.98                                       [ERKEK]            88.00               8572.23\n",
       "6322   329968c6-a0e2-11e9-a2fc-000d3a38a36f       Ios App            Ios App       2019-02-14      2021-04-05             2021-04-05              2020-02-17                         2.00                         81.00                            3997.55                            242.81                                       [ERKEK]            83.00               4240.36\n",
       "7613   73fd19aa-9e37-11e9-9897-000d3a38a36f       Ios App            Offline       2014-01-14      2021-05-18             2021-01-30              2021-05-18                        81.00                          1.00                            1263.76                          32654.34              [ERKEK, COCUK, KADIN, AKTIFSPOR]            82.00              33918.10\n",
       "9347   44d032ee-a0d4-11e9-a2fc-000d3a38a36f        Mobile             Mobile       2019-02-11      2021-02-11             2021-02-11              2020-12-24                         3.00                         74.00                            4640.77                            543.28                            [KADIN, AKTIFSPOR]            77.00               5184.05\n",
       "10954  b27e241a-a901-11e9-a2fc-000d3a38a36f        Mobile             Mobile       2015-09-12      2021-04-01             2021-04-01              2019-10-08                        72.00                          3.00                             292.93                           5004.95         [AKTIFCOCUK, ERKEK, KADIN, AKTIFSPOR]            75.00               5297.88\n",
       "8068   d696c654-2633-11ea-8e1c-000d3a38a36f       Ios App            Ios App       2017-05-10      2021-04-13             2021-04-13              2019-08-15                        69.00                          1.00                              82.48                          16836.09  [AKTIFCOCUK, ERKEK, COCUK, KADIN, AKTIFSPOR]            70.00              16918.57\n",
       "7330   a4d534a2-5b1b-11eb-8dbd-000d3a38a36f       Desktop            Desktop       2020-02-16      2021-04-30             2021-04-30              2020-12-18                        66.00                          4.00                             843.68                          17599.89                     [ERKEK, KADIN, AKTIFSPOR]            70.00              18443.57"
      ]
     },
     "execution_count": 17,
     "metadata": {},
     "output_type": "execute_result"
    }
   ],
   "source": [
    "df.sort_values(\"order_num_total\", ascending=False).head(10)"
   ]
  },
  {
   "cell_type": "markdown",
   "id": "36c102326d47db88",
   "metadata": {},
   "source": [
    "# We modularized the data preprocessing steps into functions."
   ]
  },
  {
   "cell_type": "code",
   "execution_count": 18,
   "id": "1ab3a991e7af153f",
   "metadata": {
    "ExecuteTime": {
     "end_time": "2024-08-28T22:26:52.293851Z",
     "start_time": "2024-08-28T22:26:52.287844Z"
    }
   },
   "outputs": [],
   "source": [
    "def data_prep(dataframe):\n",
    "    dataframe[\"order_num_total\"] = dataframe[\"order_num_total_ever_online\"] + dataframe[\"order_num_total_ever_offline\"]\n",
    "    dataframe[\"customer_value_total\"] = dataframe[\"customer_value_total_ever_offline\"] + dataframe[\"customer_value_total_ever_online\"]\n",
    "    date_columns = dataframe.columns[dataframe.columns.str.contains(\"date\")]\n",
    "    dataframe[date_columns] = dataframe[date_columns].apply(pd.to_datetime)\n",
    "    return df"
   ]
  },
  {
   "cell_type": "code",
   "execution_count": 19,
   "id": "54d03e02a2dda0ff",
   "metadata": {
    "ExecuteTime": {
     "end_time": "2024-08-28T22:27:15.143006Z",
     "start_time": "2024-08-28T22:27:15.133593Z"
    }
   },
   "outputs": [],
   "source": [
    "df = df_.copy()"
   ]
  },
  {
   "cell_type": "code",
   "execution_count": 20,
   "id": "c4ebeb46442f552a",
   "metadata": {
    "ExecuteTime": {
     "end_time": "2024-08-28T22:27:23.153023Z",
     "start_time": "2024-08-28T22:27:23.123830Z"
    }
   },
   "outputs": [
    {
     "data": {
      "text/html": [
       "<div>\n",
       "<style scoped>\n",
       "    .dataframe tbody tr th:only-of-type {\n",
       "        vertical-align: middle;\n",
       "    }\n",
       "\n",
       "    .dataframe tbody tr th {\n",
       "        vertical-align: top;\n",
       "    }\n",
       "\n",
       "    .dataframe thead th {\n",
       "        text-align: right;\n",
       "    }\n",
       "</style>\n",
       "<table border=\"1\" class=\"dataframe\">\n",
       "  <thead>\n",
       "    <tr style=\"text-align: right;\">\n",
       "      <th></th>\n",
       "      <th>master_id</th>\n",
       "      <th>order_channel</th>\n",
       "      <th>last_order_channel</th>\n",
       "      <th>first_order_date</th>\n",
       "      <th>last_order_date</th>\n",
       "      <th>last_order_date_online</th>\n",
       "      <th>last_order_date_offline</th>\n",
       "      <th>order_num_total_ever_online</th>\n",
       "      <th>order_num_total_ever_offline</th>\n",
       "      <th>customer_value_total_ever_offline</th>\n",
       "      <th>customer_value_total_ever_online</th>\n",
       "      <th>interested_in_categories_12</th>\n",
       "      <th>order_num_total</th>\n",
       "      <th>customer_value_total</th>\n",
       "    </tr>\n",
       "  </thead>\n",
       "  <tbody>\n",
       "    <tr>\n",
       "      <th>0</th>\n",
       "      <td>cc294636-19f0-11eb-8d74-000d3a38a36f</td>\n",
       "      <td>Android App</td>\n",
       "      <td>Offline</td>\n",
       "      <td>2020-10-30</td>\n",
       "      <td>2021-02-26</td>\n",
       "      <td>2021-02-21</td>\n",
       "      <td>2021-02-26</td>\n",
       "      <td>4.00</td>\n",
       "      <td>1.00</td>\n",
       "      <td>139.99</td>\n",
       "      <td>799.38</td>\n",
       "      <td>[KADIN]</td>\n",
       "      <td>5.00</td>\n",
       "      <td>939.37</td>\n",
       "    </tr>\n",
       "    <tr>\n",
       "      <th>1</th>\n",
       "      <td>f431bd5a-ab7b-11e9-a2fc-000d3a38a36f</td>\n",
       "      <td>Android App</td>\n",
       "      <td>Mobile</td>\n",
       "      <td>2017-02-08</td>\n",
       "      <td>2021-02-16</td>\n",
       "      <td>2021-02-16</td>\n",
       "      <td>2020-01-10</td>\n",
       "      <td>19.00</td>\n",
       "      <td>2.00</td>\n",
       "      <td>159.97</td>\n",
       "      <td>1853.58</td>\n",
       "      <td>[ERKEK, COCUK, KADIN, AKTIFSPOR]</td>\n",
       "      <td>21.00</td>\n",
       "      <td>2013.55</td>\n",
       "    </tr>\n",
       "    <tr>\n",
       "      <th>2</th>\n",
       "      <td>69b69676-1a40-11ea-941b-000d3a38a36f</td>\n",
       "      <td>Android App</td>\n",
       "      <td>Android App</td>\n",
       "      <td>2019-11-27</td>\n",
       "      <td>2020-11-27</td>\n",
       "      <td>2020-11-27</td>\n",
       "      <td>2019-12-01</td>\n",
       "      <td>3.00</td>\n",
       "      <td>2.00</td>\n",
       "      <td>189.97</td>\n",
       "      <td>395.35</td>\n",
       "      <td>[ERKEK, KADIN]</td>\n",
       "      <td>5.00</td>\n",
       "      <td>585.32</td>\n",
       "    </tr>\n",
       "    <tr>\n",
       "      <th>3</th>\n",
       "      <td>1854e56c-491f-11eb-806e-000d3a38a36f</td>\n",
       "      <td>Android App</td>\n",
       "      <td>Android App</td>\n",
       "      <td>2021-01-06</td>\n",
       "      <td>2021-01-17</td>\n",
       "      <td>2021-01-17</td>\n",
       "      <td>2021-01-06</td>\n",
       "      <td>1.00</td>\n",
       "      <td>1.00</td>\n",
       "      <td>39.99</td>\n",
       "      <td>81.98</td>\n",
       "      <td>[AKTIFCOCUK, COCUK]</td>\n",
       "      <td>2.00</td>\n",
       "      <td>121.97</td>\n",
       "    </tr>\n",
       "    <tr>\n",
       "      <th>4</th>\n",
       "      <td>d6ea1074-f1f5-11e9-9346-000d3a38a36f</td>\n",
       "      <td>Desktop</td>\n",
       "      <td>Desktop</td>\n",
       "      <td>2019-08-03</td>\n",
       "      <td>2021-03-07</td>\n",
       "      <td>2021-03-07</td>\n",
       "      <td>2019-08-03</td>\n",
       "      <td>1.00</td>\n",
       "      <td>1.00</td>\n",
       "      <td>49.99</td>\n",
       "      <td>159.99</td>\n",
       "      <td>[AKTIFSPOR]</td>\n",
       "      <td>2.00</td>\n",
       "      <td>209.98</td>\n",
       "    </tr>\n",
       "  </tbody>\n",
       "</table>\n",
       "</div>"
      ],
      "text/plain": [
       "                              master_id order_channel last_order_channel first_order_date last_order_date last_order_date_online last_order_date_offline  order_num_total_ever_online  order_num_total_ever_offline  customer_value_total_ever_offline  customer_value_total_ever_online       interested_in_categories_12  order_num_total  customer_value_total\n",
       "0  cc294636-19f0-11eb-8d74-000d3a38a36f   Android App            Offline       2020-10-30      2021-02-26             2021-02-21              2021-02-26                         4.00                          1.00                             139.99                            799.38                           [KADIN]             5.00                939.37\n",
       "1  f431bd5a-ab7b-11e9-a2fc-000d3a38a36f   Android App             Mobile       2017-02-08      2021-02-16             2021-02-16              2020-01-10                        19.00                          2.00                             159.97                           1853.58  [ERKEK, COCUK, KADIN, AKTIFSPOR]            21.00               2013.55\n",
       "2  69b69676-1a40-11ea-941b-000d3a38a36f   Android App        Android App       2019-11-27      2020-11-27             2020-11-27              2019-12-01                         3.00                          2.00                             189.97                            395.35                    [ERKEK, KADIN]             5.00                585.32\n",
       "3  1854e56c-491f-11eb-806e-000d3a38a36f   Android App        Android App       2021-01-06      2021-01-17             2021-01-17              2021-01-06                         1.00                          1.00                              39.99                             81.98               [AKTIFCOCUK, COCUK]             2.00                121.97\n",
       "4  d6ea1074-f1f5-11e9-9346-000d3a38a36f       Desktop            Desktop       2019-08-03      2021-03-07             2021-03-07              2019-08-03                         1.00                          1.00                              49.99                            159.99                       [AKTIFSPOR]             2.00                209.98"
      ]
     },
     "execution_count": 20,
     "metadata": {},
     "output_type": "execute_result"
    }
   ],
   "source": [
    "data_prep(df)\n",
    "df.head()"
   ]
  },
  {
   "cell_type": "markdown",
   "id": "931dbf14edbadcc2",
   "metadata": {},
   "source": [
    "# Calculating RFM Metrics\n",
    "\n",
    "- The goal is to calculate three metrics for each customer:\n",
    "  - **Recency**: The difference between the analysis date and the date of the most recent purchase.\n",
    "  - **Frequency**: The total number of purchases made by the customer.\n",
    "  - **Monetary**: The total amount of money spent by the customer.\n"
   ]
  },
  {
   "cell_type": "code",
   "execution_count": 22,
   "id": "ccac762749f9fd14",
   "metadata": {
    "ExecuteTime": {
     "end_time": "2024-08-28T22:29:08.894804Z",
     "start_time": "2024-08-28T22:29:08.884197Z"
    }
   },
   "outputs": [
    {
     "data": {
      "text/plain": [
       "Timestamp('2021-05-30 00:00:00')"
      ]
     },
     "execution_count": 22,
     "metadata": {},
     "output_type": "execute_result"
    }
   ],
   "source": [
    "df[\"last_order_date\"].max()"
   ]
  },
  {
   "cell_type": "code",
   "execution_count": 23,
   "id": "768db8ebb7068450",
   "metadata": {
    "ExecuteTime": {
     "end_time": "2024-08-28T22:31:46.995974Z",
     "start_time": "2024-08-28T22:31:46.992303Z"
    }
   },
   "outputs": [
    {
     "data": {
      "text/plain": [
       "datetime.datetime(2021, 6, 1, 0, 0)"
      ]
     },
     "execution_count": 23,
     "metadata": {},
     "output_type": "execute_result"
    }
   ],
   "source": [
    "analysis_date = dt.datetime(2021,6,1)\n",
    "analysis_date"
   ]
  },
  {
   "cell_type": "code",
   "execution_count": 24,
   "id": "f981e157bc28d4a1",
   "metadata": {
    "ExecuteTime": {
     "end_time": "2024-08-28T22:40:45.391747Z",
     "start_time": "2024-08-28T22:40:45.358162Z"
    }
   },
   "outputs": [
    {
     "data": {
      "text/html": [
       "<div>\n",
       "<style scoped>\n",
       "    .dataframe tbody tr th:only-of-type {\n",
       "        vertical-align: middle;\n",
       "    }\n",
       "\n",
       "    .dataframe tbody tr th {\n",
       "        vertical-align: top;\n",
       "    }\n",
       "\n",
       "    .dataframe thead th {\n",
       "        text-align: right;\n",
       "    }\n",
       "</style>\n",
       "<table border=\"1\" class=\"dataframe\">\n",
       "  <thead>\n",
       "    <tr style=\"text-align: right;\">\n",
       "      <th></th>\n",
       "      <th>customer_id</th>\n",
       "      <th>recency</th>\n",
       "      <th>frequency</th>\n",
       "      <th>monetary</th>\n",
       "    </tr>\n",
       "  </thead>\n",
       "  <tbody>\n",
       "    <tr>\n",
       "      <th>0</th>\n",
       "      <td>cc294636-19f0-11eb-8d74-000d3a38a36f</td>\n",
       "      <td>95</td>\n",
       "      <td>5.00</td>\n",
       "      <td>939.37</td>\n",
       "    </tr>\n",
       "    <tr>\n",
       "      <th>1</th>\n",
       "      <td>f431bd5a-ab7b-11e9-a2fc-000d3a38a36f</td>\n",
       "      <td>105</td>\n",
       "      <td>21.00</td>\n",
       "      <td>2013.55</td>\n",
       "    </tr>\n",
       "    <tr>\n",
       "      <th>2</th>\n",
       "      <td>69b69676-1a40-11ea-941b-000d3a38a36f</td>\n",
       "      <td>186</td>\n",
       "      <td>5.00</td>\n",
       "      <td>585.32</td>\n",
       "    </tr>\n",
       "    <tr>\n",
       "      <th>3</th>\n",
       "      <td>1854e56c-491f-11eb-806e-000d3a38a36f</td>\n",
       "      <td>135</td>\n",
       "      <td>2.00</td>\n",
       "      <td>121.97</td>\n",
       "    </tr>\n",
       "    <tr>\n",
       "      <th>4</th>\n",
       "      <td>d6ea1074-f1f5-11e9-9346-000d3a38a36f</td>\n",
       "      <td>86</td>\n",
       "      <td>2.00</td>\n",
       "      <td>209.98</td>\n",
       "    </tr>\n",
       "  </tbody>\n",
       "</table>\n",
       "</div>"
      ],
      "text/plain": [
       "                            customer_id  recency  frequency  monetary\n",
       "0  cc294636-19f0-11eb-8d74-000d3a38a36f       95       5.00    939.37\n",
       "1  f431bd5a-ab7b-11e9-a2fc-000d3a38a36f      105      21.00   2013.55\n",
       "2  69b69676-1a40-11ea-941b-000d3a38a36f      186       5.00    585.32\n",
       "3  1854e56c-491f-11eb-806e-000d3a38a36f      135       2.00    121.97\n",
       "4  d6ea1074-f1f5-11e9-9346-000d3a38a36f       86       2.00    209.98"
      ]
     },
     "execution_count": 24,
     "metadata": {},
     "output_type": "execute_result"
    }
   ],
   "source": [
    "rfm = pd.DataFrame()\n",
    "rfm[\"customer_id\"] = df[\"master_id\"]\n",
    "rfm[\"recency\"] = (analysis_date - df[\"last_order_date\"]).dt.days \n",
    "rfm[\"frequency\"] = df[\"order_num_total\"]\n",
    "rfm[\"monetary\"] = df[\"customer_value_total\"]\n",
    "\n",
    "rfm.head()"
   ]
  },
  {
   "cell_type": "code",
   "execution_count": 25,
   "id": "ca94bf2516f2ebe",
   "metadata": {
    "ExecuteTime": {
     "end_time": "2024-08-28T22:41:29.717670Z",
     "start_time": "2024-08-28T22:41:29.691189Z"
    }
   },
   "outputs": [
    {
     "data": {
      "text/html": [
       "<div>\n",
       "<style scoped>\n",
       "    .dataframe tbody tr th:only-of-type {\n",
       "        vertical-align: middle;\n",
       "    }\n",
       "\n",
       "    .dataframe tbody tr th {\n",
       "        vertical-align: top;\n",
       "    }\n",
       "\n",
       "    .dataframe thead th {\n",
       "        text-align: right;\n",
       "    }\n",
       "</style>\n",
       "<table border=\"1\" class=\"dataframe\">\n",
       "  <thead>\n",
       "    <tr style=\"text-align: right;\">\n",
       "      <th></th>\n",
       "      <th>customer_id</th>\n",
       "      <th>recency</th>\n",
       "      <th>frequency</th>\n",
       "      <th>monetary</th>\n",
       "    </tr>\n",
       "  </thead>\n",
       "  <tbody>\n",
       "    <tr>\n",
       "      <th>12438</th>\n",
       "      <td>625f40a2-5bd2-11ea-98b0-000d3a38a36f</td>\n",
       "      <td>2</td>\n",
       "      <td>16.00</td>\n",
       "      <td>9953.31</td>\n",
       "    </tr>\n",
       "    <tr>\n",
       "      <th>19111</th>\n",
       "      <td>3991df04-d707-11e9-93bc-000d3a38a36f</td>\n",
       "      <td>2</td>\n",
       "      <td>3.00</td>\n",
       "      <td>639.96</td>\n",
       "    </tr>\n",
       "    <tr>\n",
       "      <th>10737</th>\n",
       "      <td>7a1e133e-a4b3-11e9-a2fc-000d3a38a36f</td>\n",
       "      <td>2</td>\n",
       "      <td>6.00</td>\n",
       "      <td>523.92</td>\n",
       "    </tr>\n",
       "    <tr>\n",
       "      <th>6424</th>\n",
       "      <td>927a71c4-a8b5-11e9-a2fc-000d3a38a36f</td>\n",
       "      <td>2</td>\n",
       "      <td>13.00</td>\n",
       "      <td>2104.56</td>\n",
       "    </tr>\n",
       "    <tr>\n",
       "      <th>16618</th>\n",
       "      <td>35bb1806-c133-11eb-8ef5-000d3a38a36f</td>\n",
       "      <td>2</td>\n",
       "      <td>2.00</td>\n",
       "      <td>1339.95</td>\n",
       "    </tr>\n",
       "  </tbody>\n",
       "</table>\n",
       "</div>"
      ],
      "text/plain": [
       "                                customer_id  recency  frequency  monetary\n",
       "12438  625f40a2-5bd2-11ea-98b0-000d3a38a36f        2      16.00   9953.31\n",
       "19111  3991df04-d707-11e9-93bc-000d3a38a36f        2       3.00    639.96\n",
       "10737  7a1e133e-a4b3-11e9-a2fc-000d3a38a36f        2       6.00    523.92\n",
       "6424   927a71c4-a8b5-11e9-a2fc-000d3a38a36f        2      13.00   2104.56\n",
       "16618  35bb1806-c133-11eb-8ef5-000d3a38a36f        2       2.00   1339.95"
      ]
     },
     "execution_count": 25,
     "metadata": {},
     "output_type": "execute_result"
    }
   ],
   "source": [
    "rfm.sort_values(\"recency\").head()"
   ]
  },
  {
   "cell_type": "code",
   "execution_count": 27,
   "id": "deb0ac2c3cd002c4",
   "metadata": {
    "ExecuteTime": {
     "end_time": "2024-08-28T22:43:19.784818Z",
     "start_time": "2024-08-28T22:43:19.768494Z"
    }
   },
   "outputs": [
    {
     "data": {
      "text/html": [
       "<div>\n",
       "<style scoped>\n",
       "    .dataframe tbody tr th:only-of-type {\n",
       "        vertical-align: middle;\n",
       "    }\n",
       "\n",
       "    .dataframe tbody tr th {\n",
       "        vertical-align: top;\n",
       "    }\n",
       "\n",
       "    .dataframe thead th {\n",
       "        text-align: right;\n",
       "    }\n",
       "</style>\n",
       "<table border=\"1\" class=\"dataframe\">\n",
       "  <thead>\n",
       "    <tr style=\"text-align: right;\">\n",
       "      <th></th>\n",
       "      <th>master_id</th>\n",
       "      <th>order_channel</th>\n",
       "      <th>last_order_channel</th>\n",
       "      <th>first_order_date</th>\n",
       "      <th>last_order_date</th>\n",
       "      <th>last_order_date_online</th>\n",
       "      <th>last_order_date_offline</th>\n",
       "      <th>order_num_total_ever_online</th>\n",
       "      <th>order_num_total_ever_offline</th>\n",
       "      <th>customer_value_total_ever_offline</th>\n",
       "      <th>customer_value_total_ever_online</th>\n",
       "      <th>interested_in_categories_12</th>\n",
       "      <th>order_num_total</th>\n",
       "      <th>customer_value_total</th>\n",
       "    </tr>\n",
       "  </thead>\n",
       "  <tbody>\n",
       "    <tr>\n",
       "      <th>12438</th>\n",
       "      <td>625f40a2-5bd2-11ea-98b0-000d3a38a36f</td>\n",
       "      <td>Android App</td>\n",
       "      <td>Android App</td>\n",
       "      <td>2019-12-27</td>\n",
       "      <td>2021-05-30</td>\n",
       "      <td>2021-05-30</td>\n",
       "      <td>2019-12-27</td>\n",
       "      <td>15.00</td>\n",
       "      <td>1.00</td>\n",
       "      <td>229.98</td>\n",
       "      <td>9723.33</td>\n",
       "      <td>[AKTIFCOCUK, KADIN, AKTIFSPOR]</td>\n",
       "      <td>16.00</td>\n",
       "      <td>9953.31</td>\n",
       "    </tr>\n",
       "  </tbody>\n",
       "</table>\n",
       "</div>"
      ],
      "text/plain": [
       "                                  master_id order_channel last_order_channel first_order_date last_order_date last_order_date_online last_order_date_offline  order_num_total_ever_online  order_num_total_ever_offline  customer_value_total_ever_offline  customer_value_total_ever_online     interested_in_categories_12  order_num_total  customer_value_total\n",
       "12438  625f40a2-5bd2-11ea-98b0-000d3a38a36f   Android App        Android App       2019-12-27      2021-05-30             2021-05-30              2019-12-27                        15.00                          1.00                             229.98                           9723.33  [AKTIFCOCUK, KADIN, AKTIFSPOR]            16.00               9953.31"
      ]
     },
     "execution_count": 27,
     "metadata": {},
     "output_type": "execute_result"
    }
   ],
   "source": [
    "df[df[\"master_id\"] == \"625f40a2-5bd2-11ea-98b0-000d3a38a36f\"]"
   ]
  },
  {
   "cell_type": "code",
   "execution_count": 28,
   "id": "d51beea261581d8a",
   "metadata": {
    "ExecuteTime": {
     "end_time": "2024-08-28T22:45:12.169631Z",
     "start_time": "2024-08-28T22:45:12.140061Z"
    }
   },
   "outputs": [
    {
     "data": {
      "text/html": [
       "<div>\n",
       "<style scoped>\n",
       "    .dataframe tbody tr th:only-of-type {\n",
       "        vertical-align: middle;\n",
       "    }\n",
       "\n",
       "    .dataframe tbody tr th {\n",
       "        vertical-align: top;\n",
       "    }\n",
       "\n",
       "    .dataframe thead th {\n",
       "        text-align: right;\n",
       "    }\n",
       "</style>\n",
       "<table border=\"1\" class=\"dataframe\">\n",
       "  <thead>\n",
       "    <tr style=\"text-align: right;\">\n",
       "      <th></th>\n",
       "      <th>count</th>\n",
       "      <th>mean</th>\n",
       "      <th>std</th>\n",
       "      <th>min</th>\n",
       "      <th>25%</th>\n",
       "      <th>50%</th>\n",
       "      <th>75%</th>\n",
       "      <th>max</th>\n",
       "    </tr>\n",
       "  </thead>\n",
       "  <tbody>\n",
       "    <tr>\n",
       "      <th>recency</th>\n",
       "      <td>19945.00</td>\n",
       "      <td>134.46</td>\n",
       "      <td>103.28</td>\n",
       "      <td>2.00</td>\n",
       "      <td>43.00</td>\n",
       "      <td>111.00</td>\n",
       "      <td>202.00</td>\n",
       "      <td>367.00</td>\n",
       "    </tr>\n",
       "    <tr>\n",
       "      <th>frequency</th>\n",
       "      <td>19945.00</td>\n",
       "      <td>5.02</td>\n",
       "      <td>4.74</td>\n",
       "      <td>2.00</td>\n",
       "      <td>3.00</td>\n",
       "      <td>4.00</td>\n",
       "      <td>6.00</td>\n",
       "      <td>202.00</td>\n",
       "    </tr>\n",
       "    <tr>\n",
       "      <th>monetary</th>\n",
       "      <td>19945.00</td>\n",
       "      <td>751.24</td>\n",
       "      <td>895.40</td>\n",
       "      <td>44.98</td>\n",
       "      <td>339.98</td>\n",
       "      <td>545.27</td>\n",
       "      <td>897.78</td>\n",
       "      <td>45905.10</td>\n",
       "    </tr>\n",
       "  </tbody>\n",
       "</table>\n",
       "</div>"
      ],
      "text/plain": [
       "             count   mean    std   min    25%    50%    75%      max\n",
       "recency   19945.00 134.46 103.28  2.00  43.00 111.00 202.00   367.00\n",
       "frequency 19945.00   5.02   4.74  2.00   3.00   4.00   6.00   202.00\n",
       "monetary  19945.00 751.24 895.40 44.98 339.98 545.27 897.78 45905.10"
      ]
     },
     "execution_count": 28,
     "metadata": {},
     "output_type": "execute_result"
    }
   ],
   "source": [
    "rfm.describe().T"
   ]
  },
  {
   "cell_type": "markdown",
   "id": "4c5d09e4971f38bb",
   "metadata": {},
   "source": [
    "# **Calculation of RF and RFM Scores**\n"
   ]
  },
  {
   "cell_type": "code",
   "execution_count": 29,
   "id": "732b728975ff6698",
   "metadata": {
    "ExecuteTime": {
     "end_time": "2024-08-28T22:48:48.360112Z",
     "start_time": "2024-08-28T22:48:48.321272Z"
    }
   },
   "outputs": [],
   "source": [
    "rfm[\"recency_score\"] = pd.qcut(rfm[\"recency\"], 5, labels=[5,4,3,2,1])\n",
    "rfm[\"frequency_score\"] = pd.qcut(rfm[\"frequency\"].rank(method=\"first\"), 5, labels=[1,2,3,4,5])\n",
    "rfm[\"monetary_score\"] = pd.qcut(rfm[\"monetary\"], 5, labels=[1,2,3,4,5])"
   ]
  },
  {
   "cell_type": "code",
   "execution_count": 30,
   "id": "da35234a8c3eeaf4",
   "metadata": {
    "ExecuteTime": {
     "end_time": "2024-08-28T22:48:51.233479Z",
     "start_time": "2024-08-28T22:48:51.228833Z"
    }
   },
   "outputs": [
    {
     "data": {
      "text/html": [
       "<div>\n",
       "<style scoped>\n",
       "    .dataframe tbody tr th:only-of-type {\n",
       "        vertical-align: middle;\n",
       "    }\n",
       "\n",
       "    .dataframe tbody tr th {\n",
       "        vertical-align: top;\n",
       "    }\n",
       "\n",
       "    .dataframe thead th {\n",
       "        text-align: right;\n",
       "    }\n",
       "</style>\n",
       "<table border=\"1\" class=\"dataframe\">\n",
       "  <thead>\n",
       "    <tr style=\"text-align: right;\">\n",
       "      <th></th>\n",
       "      <th>customer_id</th>\n",
       "      <th>recency</th>\n",
       "      <th>frequency</th>\n",
       "      <th>monetary</th>\n",
       "      <th>recency_score</th>\n",
       "      <th>frequency_score</th>\n",
       "      <th>monetary_score</th>\n",
       "    </tr>\n",
       "  </thead>\n",
       "  <tbody>\n",
       "    <tr>\n",
       "      <th>0</th>\n",
       "      <td>cc294636-19f0-11eb-8d74-000d3a38a36f</td>\n",
       "      <td>95</td>\n",
       "      <td>5.00</td>\n",
       "      <td>939.37</td>\n",
       "      <td>3</td>\n",
       "      <td>4</td>\n",
       "      <td>4</td>\n",
       "    </tr>\n",
       "    <tr>\n",
       "      <th>1</th>\n",
       "      <td>f431bd5a-ab7b-11e9-a2fc-000d3a38a36f</td>\n",
       "      <td>105</td>\n",
       "      <td>21.00</td>\n",
       "      <td>2013.55</td>\n",
       "      <td>3</td>\n",
       "      <td>5</td>\n",
       "      <td>5</td>\n",
       "    </tr>\n",
       "    <tr>\n",
       "      <th>2</th>\n",
       "      <td>69b69676-1a40-11ea-941b-000d3a38a36f</td>\n",
       "      <td>186</td>\n",
       "      <td>5.00</td>\n",
       "      <td>585.32</td>\n",
       "      <td>2</td>\n",
       "      <td>4</td>\n",
       "      <td>3</td>\n",
       "    </tr>\n",
       "    <tr>\n",
       "      <th>3</th>\n",
       "      <td>1854e56c-491f-11eb-806e-000d3a38a36f</td>\n",
       "      <td>135</td>\n",
       "      <td>2.00</td>\n",
       "      <td>121.97</td>\n",
       "      <td>3</td>\n",
       "      <td>1</td>\n",
       "      <td>1</td>\n",
       "    </tr>\n",
       "    <tr>\n",
       "      <th>4</th>\n",
       "      <td>d6ea1074-f1f5-11e9-9346-000d3a38a36f</td>\n",
       "      <td>86</td>\n",
       "      <td>2.00</td>\n",
       "      <td>209.98</td>\n",
       "      <td>3</td>\n",
       "      <td>1</td>\n",
       "      <td>1</td>\n",
       "    </tr>\n",
       "  </tbody>\n",
       "</table>\n",
       "</div>"
      ],
      "text/plain": [
       "                            customer_id  recency  frequency  monetary recency_score frequency_score monetary_score\n",
       "0  cc294636-19f0-11eb-8d74-000d3a38a36f       95       5.00    939.37             3               4              4\n",
       "1  f431bd5a-ab7b-11e9-a2fc-000d3a38a36f      105      21.00   2013.55             3               5              5\n",
       "2  69b69676-1a40-11ea-941b-000d3a38a36f      186       5.00    585.32             2               4              3\n",
       "3  1854e56c-491f-11eb-806e-000d3a38a36f      135       2.00    121.97             3               1              1\n",
       "4  d6ea1074-f1f5-11e9-9346-000d3a38a36f       86       2.00    209.98             3               1              1"
      ]
     },
     "execution_count": 30,
     "metadata": {},
     "output_type": "execute_result"
    }
   ],
   "source": [
    "rfm.head()"
   ]
  },
  {
   "cell_type": "code",
   "execution_count": 31,
   "id": "9e45ca2217a3e514",
   "metadata": {
    "ExecuteTime": {
     "end_time": "2024-08-28T22:50:50.100563Z",
     "start_time": "2024-08-28T22:50:50.091152Z"
    }
   },
   "outputs": [],
   "source": [
    "rfm[\"RF_Score\"] = (rfm[\"recency_score\"].astype(str) +\n",
    "                    rfm[\"frequency_score\"].astype(str))"
   ]
  },
  {
   "cell_type": "code",
   "execution_count": 32,
   "id": "d59f7792212a0eae",
   "metadata": {
    "ExecuteTime": {
     "end_time": "2024-08-28T22:51:04.561052Z",
     "start_time": "2024-08-28T22:51:04.528784Z"
    }
   },
   "outputs": [],
   "source": [
    "rfm[\"RFM_SCORE\"] = (rfm['recency_score'].astype(str) + rfm['frequency_score'].astype(str) + rfm['monetary_score'].astype(str))"
   ]
  },
  {
   "cell_type": "code",
   "execution_count": 33,
   "id": "20bf51dff0df5ce3",
   "metadata": {
    "ExecuteTime": {
     "end_time": "2024-08-28T22:51:07.389496Z",
     "start_time": "2024-08-28T22:51:07.374663Z"
    }
   },
   "outputs": [
    {
     "data": {
      "text/html": [
       "<div>\n",
       "<style scoped>\n",
       "    .dataframe tbody tr th:only-of-type {\n",
       "        vertical-align: middle;\n",
       "    }\n",
       "\n",
       "    .dataframe tbody tr th {\n",
       "        vertical-align: top;\n",
       "    }\n",
       "\n",
       "    .dataframe thead th {\n",
       "        text-align: right;\n",
       "    }\n",
       "</style>\n",
       "<table border=\"1\" class=\"dataframe\">\n",
       "  <thead>\n",
       "    <tr style=\"text-align: right;\">\n",
       "      <th></th>\n",
       "      <th>customer_id</th>\n",
       "      <th>recency</th>\n",
       "      <th>frequency</th>\n",
       "      <th>monetary</th>\n",
       "      <th>recency_score</th>\n",
       "      <th>frequency_score</th>\n",
       "      <th>monetary_score</th>\n",
       "      <th>RF_Score</th>\n",
       "      <th>RFM_SCORE</th>\n",
       "    </tr>\n",
       "  </thead>\n",
       "  <tbody>\n",
       "    <tr>\n",
       "      <th>0</th>\n",
       "      <td>cc294636-19f0-11eb-8d74-000d3a38a36f</td>\n",
       "      <td>95</td>\n",
       "      <td>5.00</td>\n",
       "      <td>939.37</td>\n",
       "      <td>3</td>\n",
       "      <td>4</td>\n",
       "      <td>4</td>\n",
       "      <td>34</td>\n",
       "      <td>344</td>\n",
       "    </tr>\n",
       "    <tr>\n",
       "      <th>1</th>\n",
       "      <td>f431bd5a-ab7b-11e9-a2fc-000d3a38a36f</td>\n",
       "      <td>105</td>\n",
       "      <td>21.00</td>\n",
       "      <td>2013.55</td>\n",
       "      <td>3</td>\n",
       "      <td>5</td>\n",
       "      <td>5</td>\n",
       "      <td>35</td>\n",
       "      <td>355</td>\n",
       "    </tr>\n",
       "    <tr>\n",
       "      <th>2</th>\n",
       "      <td>69b69676-1a40-11ea-941b-000d3a38a36f</td>\n",
       "      <td>186</td>\n",
       "      <td>5.00</td>\n",
       "      <td>585.32</td>\n",
       "      <td>2</td>\n",
       "      <td>4</td>\n",
       "      <td>3</td>\n",
       "      <td>24</td>\n",
       "      <td>243</td>\n",
       "    </tr>\n",
       "    <tr>\n",
       "      <th>3</th>\n",
       "      <td>1854e56c-491f-11eb-806e-000d3a38a36f</td>\n",
       "      <td>135</td>\n",
       "      <td>2.00</td>\n",
       "      <td>121.97</td>\n",
       "      <td>3</td>\n",
       "      <td>1</td>\n",
       "      <td>1</td>\n",
       "      <td>31</td>\n",
       "      <td>311</td>\n",
       "    </tr>\n",
       "    <tr>\n",
       "      <th>4</th>\n",
       "      <td>d6ea1074-f1f5-11e9-9346-000d3a38a36f</td>\n",
       "      <td>86</td>\n",
       "      <td>2.00</td>\n",
       "      <td>209.98</td>\n",
       "      <td>3</td>\n",
       "      <td>1</td>\n",
       "      <td>1</td>\n",
       "      <td>31</td>\n",
       "      <td>311</td>\n",
       "    </tr>\n",
       "  </tbody>\n",
       "</table>\n",
       "</div>"
      ],
      "text/plain": [
       "                            customer_id  recency  frequency  monetary recency_score frequency_score monetary_score RF_Score RFM_SCORE\n",
       "0  cc294636-19f0-11eb-8d74-000d3a38a36f       95       5.00    939.37             3               4              4       34       344\n",
       "1  f431bd5a-ab7b-11e9-a2fc-000d3a38a36f      105      21.00   2013.55             3               5              5       35       355\n",
       "2  69b69676-1a40-11ea-941b-000d3a38a36f      186       5.00    585.32             2               4              3       24       243\n",
       "3  1854e56c-491f-11eb-806e-000d3a38a36f      135       2.00    121.97             3               1              1       31       311\n",
       "4  d6ea1074-f1f5-11e9-9346-000d3a38a36f       86       2.00    209.98             3               1              1       31       311"
      ]
     },
     "execution_count": 33,
     "metadata": {},
     "output_type": "execute_result"
    }
   ],
   "source": [
    "rfm.head()"
   ]
  },
  {
   "cell_type": "markdown",
   "id": "2285295a8a493a7c",
   "metadata": {},
   "source": [
    "# **Defining RF Scores as Segments**\n"
   ]
  },
  {
   "cell_type": "code",
   "execution_count": 34,
   "id": "3b4dc9d8c3df6d33",
   "metadata": {
    "ExecuteTime": {
     "end_time": "2024-08-28T22:52:02.387491Z",
     "start_time": "2024-08-28T22:52:02.383314Z"
    }
   },
   "outputs": [],
   "source": [
    "# segment map\n",
    "# RFM isimlendirmesi\n",
    "seg_map = {\n",
    "    r'[1-2][1-2]': 'hibernating',\n",
    "    r'[1-2][3-4]': 'at_Risk',\n",
    "    r'[1-2]5': 'cant_loose',\n",
    "    r'3[1-2]': 'about_to_sleep',\n",
    "    r'33': 'need_attention',\n",
    "    r'[3-4][4-5]': 'loyal_customers',\n",
    "    r'41': 'promising',\n",
    "    r'51': 'new_customers',\n",
    "    r'[4-5][2-3]': 'potential_loyalists',\n",
    "    r'5[4-5]': 'champions'\n",
    "}"
   ]
  },
  {
   "cell_type": "code",
   "execution_count": 35,
   "id": "9792332a23ca3525",
   "metadata": {
    "ExecuteTime": {
     "end_time": "2024-08-28T22:52:56.237791Z",
     "start_time": "2024-08-28T22:52:56.130461Z"
    }
   },
   "outputs": [
    {
     "data": {
      "text/html": [
       "<div>\n",
       "<style scoped>\n",
       "    .dataframe tbody tr th:only-of-type {\n",
       "        vertical-align: middle;\n",
       "    }\n",
       "\n",
       "    .dataframe tbody tr th {\n",
       "        vertical-align: top;\n",
       "    }\n",
       "\n",
       "    .dataframe thead th {\n",
       "        text-align: right;\n",
       "    }\n",
       "</style>\n",
       "<table border=\"1\" class=\"dataframe\">\n",
       "  <thead>\n",
       "    <tr style=\"text-align: right;\">\n",
       "      <th></th>\n",
       "      <th>customer_id</th>\n",
       "      <th>recency</th>\n",
       "      <th>frequency</th>\n",
       "      <th>monetary</th>\n",
       "      <th>recency_score</th>\n",
       "      <th>frequency_score</th>\n",
       "      <th>monetary_score</th>\n",
       "      <th>RF_Score</th>\n",
       "      <th>RFM_SCORE</th>\n",
       "      <th>segment</th>\n",
       "    </tr>\n",
       "  </thead>\n",
       "  <tbody>\n",
       "    <tr>\n",
       "      <th>0</th>\n",
       "      <td>cc294636-19f0-11eb-8d74-000d3a38a36f</td>\n",
       "      <td>95</td>\n",
       "      <td>5.00</td>\n",
       "      <td>939.37</td>\n",
       "      <td>3</td>\n",
       "      <td>4</td>\n",
       "      <td>4</td>\n",
       "      <td>34</td>\n",
       "      <td>344</td>\n",
       "      <td>loyal_customers</td>\n",
       "    </tr>\n",
       "    <tr>\n",
       "      <th>1</th>\n",
       "      <td>f431bd5a-ab7b-11e9-a2fc-000d3a38a36f</td>\n",
       "      <td>105</td>\n",
       "      <td>21.00</td>\n",
       "      <td>2013.55</td>\n",
       "      <td>3</td>\n",
       "      <td>5</td>\n",
       "      <td>5</td>\n",
       "      <td>35</td>\n",
       "      <td>355</td>\n",
       "      <td>loyal_customers</td>\n",
       "    </tr>\n",
       "    <tr>\n",
       "      <th>2</th>\n",
       "      <td>69b69676-1a40-11ea-941b-000d3a38a36f</td>\n",
       "      <td>186</td>\n",
       "      <td>5.00</td>\n",
       "      <td>585.32</td>\n",
       "      <td>2</td>\n",
       "      <td>4</td>\n",
       "      <td>3</td>\n",
       "      <td>24</td>\n",
       "      <td>243</td>\n",
       "      <td>at_Risk</td>\n",
       "    </tr>\n",
       "    <tr>\n",
       "      <th>3</th>\n",
       "      <td>1854e56c-491f-11eb-806e-000d3a38a36f</td>\n",
       "      <td>135</td>\n",
       "      <td>2.00</td>\n",
       "      <td>121.97</td>\n",
       "      <td>3</td>\n",
       "      <td>1</td>\n",
       "      <td>1</td>\n",
       "      <td>31</td>\n",
       "      <td>311</td>\n",
       "      <td>about_to_sleep</td>\n",
       "    </tr>\n",
       "    <tr>\n",
       "      <th>4</th>\n",
       "      <td>d6ea1074-f1f5-11e9-9346-000d3a38a36f</td>\n",
       "      <td>86</td>\n",
       "      <td>2.00</td>\n",
       "      <td>209.98</td>\n",
       "      <td>3</td>\n",
       "      <td>1</td>\n",
       "      <td>1</td>\n",
       "      <td>31</td>\n",
       "      <td>311</td>\n",
       "      <td>about_to_sleep</td>\n",
       "    </tr>\n",
       "  </tbody>\n",
       "</table>\n",
       "</div>"
      ],
      "text/plain": [
       "                            customer_id  recency  frequency  monetary recency_score frequency_score monetary_score RF_Score RFM_SCORE          segment\n",
       "0  cc294636-19f0-11eb-8d74-000d3a38a36f       95       5.00    939.37             3               4              4       34       344  loyal_customers\n",
       "1  f431bd5a-ab7b-11e9-a2fc-000d3a38a36f      105      21.00   2013.55             3               5              5       35       355  loyal_customers\n",
       "2  69b69676-1a40-11ea-941b-000d3a38a36f      186       5.00    585.32             2               4              3       24       243          at_Risk\n",
       "3  1854e56c-491f-11eb-806e-000d3a38a36f      135       2.00    121.97             3               1              1       31       311   about_to_sleep\n",
       "4  d6ea1074-f1f5-11e9-9346-000d3a38a36f       86       2.00    209.98             3               1              1       31       311   about_to_sleep"
      ]
     },
     "execution_count": 35,
     "metadata": {},
     "output_type": "execute_result"
    }
   ],
   "source": [
    "rfm[\"segment\"] = rfm[\"RF_Score\"].replace(seg_map, regex=True)\n",
    "rfm.head()"
   ]
  },
  {
   "cell_type": "markdown",
   "id": "4ed6ffc0aed9f0b2",
   "metadata": {},
   "source": [
    "# We examined the averages of recency, frequency, and monetary metrics for each segment.\n"
   ]
  },
  {
   "cell_type": "code",
   "execution_count": 36,
   "id": "53b758e6cbd9a29c",
   "metadata": {
    "ExecuteTime": {
     "end_time": "2024-08-28T22:56:02.939340Z",
     "start_time": "2024-08-28T22:56:02.914075Z"
    }
   },
   "outputs": [
    {
     "data": {
      "text/html": [
       "<div>\n",
       "<style scoped>\n",
       "    .dataframe tbody tr th:only-of-type {\n",
       "        vertical-align: middle;\n",
       "    }\n",
       "\n",
       "    .dataframe tbody tr th {\n",
       "        vertical-align: top;\n",
       "    }\n",
       "\n",
       "    .dataframe thead tr th {\n",
       "        text-align: left;\n",
       "    }\n",
       "\n",
       "    .dataframe thead tr:last-of-type th {\n",
       "        text-align: right;\n",
       "    }\n",
       "</style>\n",
       "<table border=\"1\" class=\"dataframe\">\n",
       "  <thead>\n",
       "    <tr>\n",
       "      <th></th>\n",
       "      <th colspan=\"2\" halign=\"left\">recency</th>\n",
       "      <th colspan=\"2\" halign=\"left\">frequency</th>\n",
       "      <th colspan=\"2\" halign=\"left\">monetary</th>\n",
       "    </tr>\n",
       "    <tr>\n",
       "      <th></th>\n",
       "      <th>mean</th>\n",
       "      <th>count</th>\n",
       "      <th>mean</th>\n",
       "      <th>count</th>\n",
       "      <th>mean</th>\n",
       "      <th>count</th>\n",
       "    </tr>\n",
       "    <tr>\n",
       "      <th>segment</th>\n",
       "      <th></th>\n",
       "      <th></th>\n",
       "      <th></th>\n",
       "      <th></th>\n",
       "      <th></th>\n",
       "      <th></th>\n",
       "    </tr>\n",
       "  </thead>\n",
       "  <tbody>\n",
       "    <tr>\n",
       "      <th>about_to_sleep</th>\n",
       "      <td>113.79</td>\n",
       "      <td>1629</td>\n",
       "      <td>2.40</td>\n",
       "      <td>1629</td>\n",
       "      <td>359.01</td>\n",
       "      <td>1629</td>\n",
       "    </tr>\n",
       "    <tr>\n",
       "      <th>at_Risk</th>\n",
       "      <td>241.61</td>\n",
       "      <td>3131</td>\n",
       "      <td>4.47</td>\n",
       "      <td>3131</td>\n",
       "      <td>646.61</td>\n",
       "      <td>3131</td>\n",
       "    </tr>\n",
       "    <tr>\n",
       "      <th>cant_loose</th>\n",
       "      <td>235.44</td>\n",
       "      <td>1200</td>\n",
       "      <td>10.70</td>\n",
       "      <td>1200</td>\n",
       "      <td>1474.47</td>\n",
       "      <td>1200</td>\n",
       "    </tr>\n",
       "    <tr>\n",
       "      <th>champions</th>\n",
       "      <td>17.11</td>\n",
       "      <td>1932</td>\n",
       "      <td>8.93</td>\n",
       "      <td>1932</td>\n",
       "      <td>1406.63</td>\n",
       "      <td>1932</td>\n",
       "    </tr>\n",
       "    <tr>\n",
       "      <th>hibernating</th>\n",
       "      <td>247.95</td>\n",
       "      <td>3604</td>\n",
       "      <td>2.39</td>\n",
       "      <td>3604</td>\n",
       "      <td>366.27</td>\n",
       "      <td>3604</td>\n",
       "    </tr>\n",
       "    <tr>\n",
       "      <th>loyal_customers</th>\n",
       "      <td>82.59</td>\n",
       "      <td>3361</td>\n",
       "      <td>8.37</td>\n",
       "      <td>3361</td>\n",
       "      <td>1216.82</td>\n",
       "      <td>3361</td>\n",
       "    </tr>\n",
       "    <tr>\n",
       "      <th>need_attention</th>\n",
       "      <td>113.83</td>\n",
       "      <td>823</td>\n",
       "      <td>3.73</td>\n",
       "      <td>823</td>\n",
       "      <td>562.14</td>\n",
       "      <td>823</td>\n",
       "    </tr>\n",
       "    <tr>\n",
       "      <th>new_customers</th>\n",
       "      <td>17.92</td>\n",
       "      <td>680</td>\n",
       "      <td>2.00</td>\n",
       "      <td>680</td>\n",
       "      <td>339.96</td>\n",
       "      <td>680</td>\n",
       "    </tr>\n",
       "    <tr>\n",
       "      <th>potential_loyalists</th>\n",
       "      <td>37.16</td>\n",
       "      <td>2938</td>\n",
       "      <td>3.30</td>\n",
       "      <td>2938</td>\n",
       "      <td>533.18</td>\n",
       "      <td>2938</td>\n",
       "    </tr>\n",
       "    <tr>\n",
       "      <th>promising</th>\n",
       "      <td>58.92</td>\n",
       "      <td>647</td>\n",
       "      <td>2.00</td>\n",
       "      <td>647</td>\n",
       "      <td>335.67</td>\n",
       "      <td>647</td>\n",
       "    </tr>\n",
       "  </tbody>\n",
       "</table>\n",
       "</div>"
      ],
      "text/plain": [
       "                    recency       frequency       monetary      \n",
       "                       mean count      mean count     mean count\n",
       "segment                                                         \n",
       "about_to_sleep       113.79  1629      2.40  1629   359.01  1629\n",
       "at_Risk              241.61  3131      4.47  3131   646.61  3131\n",
       "cant_loose           235.44  1200     10.70  1200  1474.47  1200\n",
       "champions             17.11  1932      8.93  1932  1406.63  1932\n",
       "hibernating          247.95  3604      2.39  3604   366.27  3604\n",
       "loyal_customers       82.59  3361      8.37  3361  1216.82  3361\n",
       "need_attention       113.83   823      3.73   823   562.14   823\n",
       "new_customers         17.92   680      2.00   680   339.96   680\n",
       "potential_loyalists   37.16  2938      3.30  2938   533.18  2938\n",
       "promising             58.92   647      2.00   647   335.67   647"
      ]
     },
     "execution_count": 36,
     "metadata": {},
     "output_type": "execute_result"
    }
   ],
   "source": [
    "rfm[[\"segment\", \"recency\", \"frequency\", \"monetary\"]].groupby(\"segment\").agg([\"mean\", \"count\"])"
   ]
  },
  {
   "cell_type": "code",
   "execution_count": 37,
   "id": "380e3f123c7f9785",
   "metadata": {
    "ExecuteTime": {
     "end_time": "2024-08-28T23:05:21.743530Z",
     "start_time": "2024-08-28T23:05:21.734491Z"
    }
   },
   "outputs": [
    {
     "data": {
      "text/plain": [
       "Index([   15,    41,    76,    91,   147,   187,   197,   291,   308,   314,\n",
       "       ...\n",
       "       19776, 19782, 19784, 19849, 19863, 19868, 19888, 19932, 19933, 19936], dtype='int64', length=1200)"
      ]
     },
     "execution_count": 37,
     "metadata": {},
     "output_type": "execute_result"
    }
   ],
   "source": [
    "rfm[rfm[\"segment\"] == \"cant_loose\"].index"
   ]
  },
  {
   "cell_type": "markdown",
   "id": "fd1148b2b91be1d0",
   "metadata": {},
   "source": [
    "# TASKS"
   ]
  },
  {
   "cell_type": "markdown",
   "id": "783f49e987102c80",
   "metadata": {},
   "source": [
    "# Using RFM analysis, we identified customers fitting specific profiles for two cases and saved their customer IDs in a CSV file.\n",
    "\n",
    "a. FLO is introducing a new women's shoe brand with prices above general customer preferences. Therefore, they want to specifically target customers who are loyal and have shopped in the women’s category. The IDs of these customers were saved in a CSV file named `new_brand_target_customer_ids.csv`."
   ]
  },
  {
   "cell_type": "code",
   "execution_count": 38,
   "id": "101d275de5957492",
   "metadata": {
    "ExecuteTime": {
     "end_time": "2024-08-28T23:06:35.335235Z",
     "start_time": "2024-08-28T23:06:35.313092Z"
    }
   },
   "outputs": [
    {
     "data": {
      "text/plain": [
       "interested_in_categories_12\n",
       "[AKTIFSPOR]                                     3464\n",
       "[KADIN]                                         2158\n",
       "[]                                              2135\n",
       "[ERKEK]                                         1973\n",
       "[KADIN, AKTIFSPOR]                              1352\n",
       "[ERKEK, AKTIFSPOR]                              1178\n",
       "[ERKEK, KADIN]                                   848\n",
       "[COCUK]                                          836\n",
       "[ERKEK, KADIN, AKTIFSPOR]                        775\n",
       "[AKTIFCOCUK]                                     679\n",
       "[COCUK, KADIN]                                   443\n",
       "[AKTIFCOCUK, COCUK]                              349\n",
       "[AKTIFCOCUK, AKTIFSPOR]                          317\n",
       "[COCUK, AKTIFSPOR]                               317\n",
       "[COCUK, KADIN, AKTIFSPOR]                        241\n",
       "[AKTIFCOCUK, ERKEK, COCUK, KADIN, AKTIFSPOR]     223\n",
       "[ERKEK, COCUK]                                   215\n",
       "[ERKEK, COCUK, KADIN, AKTIFSPOR]                 213\n",
       "[AKTIFCOCUK, COCUK, KADIN]                       213\n",
       "[AKTIFCOCUK, KADIN]                              210\n",
       "[ERKEK, COCUK, KADIN]                            204\n",
       "[AKTIFCOCUK, COCUK, KADIN, AKTIFSPOR]            203\n",
       "[AKTIFCOCUK, COCUK, AKTIFSPOR]                   202\n",
       "[AKTIFCOCUK, KADIN, AKTIFSPOR]                   184\n",
       "[ERKEK, COCUK, AKTIFSPOR]                        156\n",
       "[AKTIFCOCUK, ERKEK]                              152\n",
       "[AKTIFCOCUK, ERKEK, AKTIFSPOR]                   142\n",
       "[AKTIFCOCUK, ERKEK, KADIN, AKTIFSPOR]            132\n",
       "[AKTIFCOCUK, ERKEK, COCUK]                       122\n",
       "[AKTIFCOCUK, ERKEK, COCUK, KADIN]                115\n",
       "[AKTIFCOCUK, ERKEK, COCUK, AKTIFSPOR]            105\n",
       "[AKTIFCOCUK, ERKEK, KADIN]                        89\n",
       "Name: count, dtype: int64"
      ]
     },
     "execution_count": 38,
     "metadata": {},
     "output_type": "execute_result"
    }
   ],
   "source": [
    "df[\"interested_in_categories_12\"].value_counts()"
   ]
  },
  {
   "cell_type": "code",
   "execution_count": 39,
   "id": "c0d3acd49e4da135",
   "metadata": {
    "ExecuteTime": {
     "end_time": "2024-08-28T23:16:10.686993Z",
     "start_time": "2024-08-28T23:16:10.633816Z"
    }
   },
   "outputs": [],
   "source": [
    "target_segments_customer_ids = rfm[rfm[\"segment\"].isin([\"champions\", \"loyal_customers\"])][\"customer_id\"]\n",
    "cust_ids = df[(df[\"master_id\"].isin(target_segments_customer_ids)) & (df[\"interested_in_categories_12\"].str.contains(\"KADIN\"))][\"master_id\"]\n",
    "# cust_ids.to_csv(\"yeni_marka_hedef_müşteri_id.csv\", index=False)"
   ]
  },
  {
   "cell_type": "code",
   "execution_count": 40,
   "id": "1d856f6b824d4ffe",
   "metadata": {
    "ExecuteTime": {
     "end_time": "2024-08-28T23:16:15.235937Z",
     "start_time": "2024-08-28T23:16:15.232687Z"
    }
   },
   "outputs": [
    {
     "data": {
      "text/plain": [
       "(2497,)"
      ]
     },
     "execution_count": 40,
     "metadata": {},
     "output_type": "execute_result"
    }
   ],
   "source": [
    "cust_ids.shape"
   ]
  },
  {
   "cell_type": "code",
   "execution_count": 41,
   "id": "21594aa942517da8",
   "metadata": {
    "ExecuteTime": {
     "end_time": "2024-08-28T23:18:02.743044Z",
     "start_time": "2024-08-28T23:18:02.729424Z"
    }
   },
   "outputs": [],
   "source": [
    "rfm_new = pd.DataFrame()\n",
    "rfm_new[\"KADIN_hedef_kitle\"] = cust_ids"
   ]
  },
  {
   "cell_type": "code",
   "execution_count": 42,
   "id": "9bb20991a917c888",
   "metadata": {
    "ExecuteTime": {
     "end_time": "2024-08-28T23:18:08.805880Z",
     "start_time": "2024-08-28T23:18:08.799668Z"
    }
   },
   "outputs": [
    {
     "data": {
      "text/html": [
       "<div>\n",
       "<style scoped>\n",
       "    .dataframe tbody tr th:only-of-type {\n",
       "        vertical-align: middle;\n",
       "    }\n",
       "\n",
       "    .dataframe tbody tr th {\n",
       "        vertical-align: top;\n",
       "    }\n",
       "\n",
       "    .dataframe thead th {\n",
       "        text-align: right;\n",
       "    }\n",
       "</style>\n",
       "<table border=\"1\" class=\"dataframe\">\n",
       "  <thead>\n",
       "    <tr style=\"text-align: right;\">\n",
       "      <th></th>\n",
       "      <th>KADIN_hedef_kitle</th>\n",
       "    </tr>\n",
       "  </thead>\n",
       "  <tbody>\n",
       "    <tr>\n",
       "      <th>0</th>\n",
       "      <td>cc294636-19f0-11eb-8d74-000d3a38a36f</td>\n",
       "    </tr>\n",
       "    <tr>\n",
       "      <th>1</th>\n",
       "      <td>f431bd5a-ab7b-11e9-a2fc-000d3a38a36f</td>\n",
       "    </tr>\n",
       "    <tr>\n",
       "      <th>8</th>\n",
       "      <td>cfbda69e-5b4f-11ea-aca7-000d3a38a36f</td>\n",
       "    </tr>\n",
       "    <tr>\n",
       "      <th>11</th>\n",
       "      <td>c2e15af2-9eed-11e9-9897-000d3a38a36f</td>\n",
       "    </tr>\n",
       "    <tr>\n",
       "      <th>33</th>\n",
       "      <td>fb840306-1219-11ea-a001-000d3a38a36f</td>\n",
       "    </tr>\n",
       "  </tbody>\n",
       "</table>\n",
       "</div>"
      ],
      "text/plain": [
       "                       KADIN_hedef_kitle\n",
       "0   cc294636-19f0-11eb-8d74-000d3a38a36f\n",
       "1   f431bd5a-ab7b-11e9-a2fc-000d3a38a36f\n",
       "8   cfbda69e-5b4f-11ea-aca7-000d3a38a36f\n",
       "11  c2e15af2-9eed-11e9-9897-000d3a38a36f\n",
       "33  fb840306-1219-11ea-a001-000d3a38a36f"
      ]
     },
     "execution_count": 42,
     "metadata": {},
     "output_type": "execute_result"
    }
   ],
   "source": [
    "rfm_new.head()"
   ]
  },
  {
   "cell_type": "markdown",
   "id": "f0c09b7da09cf72",
   "metadata": {},
   "source": [
    "b. A discount of around 40% is planned for men's and children's products. To target this discount, the aim is to reach past good customers who haven't shopped recently and new customers interested in these categories. The IDs of these suitable customers were saved in a CSV file named `discount_target_customer_ids.csv`."
   ]
  },
  {
   "cell_type": "code",
   "execution_count": 43,
   "id": "4ad7e1ff2433c4a6",
   "metadata": {
    "ExecuteTime": {
     "end_time": "2024-08-28T23:24:49.101683Z",
     "start_time": "2024-08-28T23:24:49.069193Z"
    }
   },
   "outputs": [],
   "source": [
    "target_segments_customer_ids_2 = rfm[rfm[\"segment\"].isin([\"cant_loose\", \"at_risk\", \"new_customers\"])][\"customer_id\"]\n",
    "cust_ids = df[(df[\"master_id\"].isin(target_segments_customer_ids)) & ((df[\"interested_in_categories_12\"].str.contains(\"ERKEK\"))|(df[\"interested_in_categories_12\"].str.contains(\"COCUK\")))][\"master_id\"]\n",
    "#cust_ids.to_csv((\"yeni_marka_hedef_müşteri_2.csv\", index=False))"
   ]
  },
  {
   "cell_type": "code",
   "execution_count": 44,
   "id": "d75851010416edfd",
   "metadata": {
    "ExecuteTime": {
     "end_time": "2024-08-28T23:25:11.937483Z",
     "start_time": "2024-08-28T23:25:11.929374Z"
    }
   },
   "outputs": [],
   "source": [
    "rfm_new[\"ERKEK-COCUK_hedef_kitle\"] = cust_ids"
   ]
  },
  {
   "cell_type": "code",
   "execution_count": 45,
   "id": "2ca05457dbaf9afb",
   "metadata": {
    "ExecuteTime": {
     "end_time": "2024-08-28T23:26:35.990355Z",
     "start_time": "2024-08-28T23:26:35.984077Z"
    }
   },
   "outputs": [
    {
     "data": {
      "text/html": [
       "<div>\n",
       "<style scoped>\n",
       "    .dataframe tbody tr th:only-of-type {\n",
       "        vertical-align: middle;\n",
       "    }\n",
       "\n",
       "    .dataframe tbody tr th {\n",
       "        vertical-align: top;\n",
       "    }\n",
       "\n",
       "    .dataframe thead th {\n",
       "        text-align: right;\n",
       "    }\n",
       "</style>\n",
       "<table border=\"1\" class=\"dataframe\">\n",
       "  <thead>\n",
       "    <tr style=\"text-align: right;\">\n",
       "      <th></th>\n",
       "      <th>KADIN_hedef_kitle</th>\n",
       "      <th>ERKEK-COCUK_hedef_kitle</th>\n",
       "    </tr>\n",
       "  </thead>\n",
       "  <tbody>\n",
       "    <tr>\n",
       "      <th>0</th>\n",
       "      <td>cc294636-19f0-11eb-8d74-000d3a38a36f</td>\n",
       "      <td>NaN</td>\n",
       "    </tr>\n",
       "    <tr>\n",
       "      <th>1</th>\n",
       "      <td>f431bd5a-ab7b-11e9-a2fc-000d3a38a36f</td>\n",
       "      <td>f431bd5a-ab7b-11e9-a2fc-000d3a38a36f</td>\n",
       "    </tr>\n",
       "    <tr>\n",
       "      <th>8</th>\n",
       "      <td>cfbda69e-5b4f-11ea-aca7-000d3a38a36f</td>\n",
       "      <td>cfbda69e-5b4f-11ea-aca7-000d3a38a36f</td>\n",
       "    </tr>\n",
       "    <tr>\n",
       "      <th>11</th>\n",
       "      <td>c2e15af2-9eed-11e9-9897-000d3a38a36f</td>\n",
       "      <td>c2e15af2-9eed-11e9-9897-000d3a38a36f</td>\n",
       "    </tr>\n",
       "    <tr>\n",
       "      <th>33</th>\n",
       "      <td>fb840306-1219-11ea-a001-000d3a38a36f</td>\n",
       "      <td>fb840306-1219-11ea-a001-000d3a38a36f</td>\n",
       "    </tr>\n",
       "  </tbody>\n",
       "</table>\n",
       "</div>"
      ],
      "text/plain": [
       "                       KADIN_hedef_kitle               ERKEK-COCUK_hedef_kitle\n",
       "0   cc294636-19f0-11eb-8d74-000d3a38a36f                                   NaN\n",
       "1   f431bd5a-ab7b-11e9-a2fc-000d3a38a36f  f431bd5a-ab7b-11e9-a2fc-000d3a38a36f\n",
       "8   cfbda69e-5b4f-11ea-aca7-000d3a38a36f  cfbda69e-5b4f-11ea-aca7-000d3a38a36f\n",
       "11  c2e15af2-9eed-11e9-9897-000d3a38a36f  c2e15af2-9eed-11e9-9897-000d3a38a36f\n",
       "33  fb840306-1219-11ea-a001-000d3a38a36f  fb840306-1219-11ea-a001-000d3a38a36f"
      ]
     },
     "execution_count": 45,
     "metadata": {},
     "output_type": "execute_result"
    }
   ],
   "source": [
    "rfm_new.head()"
   ]
  },
  {
   "cell_type": "markdown",
   "id": "fcf1410a9593b85e",
   "metadata": {},
   "source": [
    "# BONUS\n",
    "**Consolidating All Operations into a Single Function**"
   ]
  },
  {
   "cell_type": "code",
   "execution_count": 46,
   "id": "989c75c7fc536ef7",
   "metadata": {
    "ExecuteTime": {
     "end_time": "2024-08-28T23:28:41.141426Z",
     "start_time": "2024-08-28T23:28:41.132487Z"
    }
   },
   "outputs": [],
   "source": [
    "def create_rfm(dataframe):\n",
    "    # Veriyi Hazırlma\n",
    "    dataframe[\"order_num_total\"] = dataframe[\"order_num_total_ever_online\"] + dataframe[\"order_num_total_ever_offline\"]\n",
    "    dataframe[\"customer_value_total\"] = dataframe[\"customer_value_total_ever_offline\"] + dataframe[\"customer_value_total_ever_online\"]\n",
    "    date_columns = dataframe.columns[dataframe.columns.str.contains(\"date\")]\n",
    "    dataframe[date_columns] = dataframe[date_columns].apply(pd.to_datetime)\n",
    "\n",
    "\n",
    "    # RFM METRIKLERININ HESAPLANMASI\n",
    "    dataframe[\"last_order_date\"].max()  # 2021-05-30\n",
    "    analysis_date = dt.datetime(2021, 6, 1)\n",
    "    rfm = pd.DataFrame()\n",
    "    rfm[\"customer_id\"] = dataframe[\"master_id\"]\n",
    "    rfm[\"recency\"] = (analysis_date - dataframe[\"last_order_date\"]).dt.days\n",
    "    rfm[\"frequency\"] = dataframe[\"order_num_total\"]\n",
    "    rfm[\"monetary\"] = dataframe[\"customer_value_total\"]\n",
    "\n",
    "    # RF ve RFM SKORLARININ HESAPLANMASI\n",
    "    rfm[\"recency_score\"] = pd.qcut(rfm['recency'], 5, labels=[5, 4, 3, 2, 1])\n",
    "    rfm[\"frequency_score\"] = pd.qcut(rfm['frequency'].rank(method=\"first\"), 5, labels=[1, 2, 3, 4, 5])\n",
    "    rfm[\"monetary_score\"] = pd.qcut(rfm['monetary'], 5, labels=[1, 2, 3, 4, 5])\n",
    "    rfm[\"RF_SCORE\"] = (rfm['recency_score'].astype(str) + rfm['frequency_score'].astype(str))\n",
    "    rfm[\"RFM_SCORE\"] = (rfm['recency_score'].astype(str) + rfm['frequency_score'].astype(str) + rfm['monetary_score'].astype(str))\n",
    "\n",
    "\n",
    "    # SEGMENTLERIN ISIMLENDIRILMESI\n",
    "    seg_map = {\n",
    "        r'[1-2][1-2]': 'hibernating',\n",
    "        r'[1-2][3-4]': 'at_Risk',\n",
    "        r'[1-2]5': 'cant_loose',\n",
    "        r'3[1-2]': 'about_to_sleep',\n",
    "        r'33': 'need_attention',\n",
    "        r'[3-4][4-5]': 'loyal_customers',\n",
    "        r'41': 'promising',\n",
    "        r'51': 'new_customers',\n",
    "        r'[4-5][2-3]': 'potential_loyalists',\n",
    "        r'5[4-5]': 'champions'\n",
    "    }\n",
    "    rfm['segment'] = rfm['RF_SCORE'].replace(seg_map, regex=True)\n",
    "\n",
    "    return rfm[[\"customer_id\", \"recency\",\"frequency\",\"monetary\",\"RF_SCORE\",\"RFM_SCORE\",\"segment\"]]"
   ]
  },
  {
   "cell_type": "code",
   "execution_count": 47,
   "id": "1de974769642d851",
   "metadata": {
    "ExecuteTime": {
     "end_time": "2024-08-28T23:28:42.235922Z",
     "start_time": "2024-08-28T23:28:42.105582Z"
    }
   },
   "outputs": [],
   "source": [
    "func_rfm = create_rfm(df)"
   ]
  },
  {
   "cell_type": "code",
   "execution_count": 48,
   "id": "ea4261892cbd9f0d",
   "metadata": {
    "ExecuteTime": {
     "end_time": "2024-08-28T23:28:46.796850Z",
     "start_time": "2024-08-28T23:28:46.786814Z"
    }
   },
   "outputs": [
    {
     "data": {
      "text/html": [
       "<div>\n",
       "<style scoped>\n",
       "    .dataframe tbody tr th:only-of-type {\n",
       "        vertical-align: middle;\n",
       "    }\n",
       "\n",
       "    .dataframe tbody tr th {\n",
       "        vertical-align: top;\n",
       "    }\n",
       "\n",
       "    .dataframe thead th {\n",
       "        text-align: right;\n",
       "    }\n",
       "</style>\n",
       "<table border=\"1\" class=\"dataframe\">\n",
       "  <thead>\n",
       "    <tr style=\"text-align: right;\">\n",
       "      <th></th>\n",
       "      <th>customer_id</th>\n",
       "      <th>recency</th>\n",
       "      <th>frequency</th>\n",
       "      <th>monetary</th>\n",
       "      <th>RF_SCORE</th>\n",
       "      <th>RFM_SCORE</th>\n",
       "      <th>segment</th>\n",
       "    </tr>\n",
       "  </thead>\n",
       "  <tbody>\n",
       "    <tr>\n",
       "      <th>0</th>\n",
       "      <td>cc294636-19f0-11eb-8d74-000d3a38a36f</td>\n",
       "      <td>95</td>\n",
       "      <td>5.00</td>\n",
       "      <td>939.37</td>\n",
       "      <td>34</td>\n",
       "      <td>344</td>\n",
       "      <td>loyal_customers</td>\n",
       "    </tr>\n",
       "    <tr>\n",
       "      <th>1</th>\n",
       "      <td>f431bd5a-ab7b-11e9-a2fc-000d3a38a36f</td>\n",
       "      <td>105</td>\n",
       "      <td>21.00</td>\n",
       "      <td>2013.55</td>\n",
       "      <td>35</td>\n",
       "      <td>355</td>\n",
       "      <td>loyal_customers</td>\n",
       "    </tr>\n",
       "    <tr>\n",
       "      <th>2</th>\n",
       "      <td>69b69676-1a40-11ea-941b-000d3a38a36f</td>\n",
       "      <td>186</td>\n",
       "      <td>5.00</td>\n",
       "      <td>585.32</td>\n",
       "      <td>24</td>\n",
       "      <td>243</td>\n",
       "      <td>at_Risk</td>\n",
       "    </tr>\n",
       "    <tr>\n",
       "      <th>3</th>\n",
       "      <td>1854e56c-491f-11eb-806e-000d3a38a36f</td>\n",
       "      <td>135</td>\n",
       "      <td>2.00</td>\n",
       "      <td>121.97</td>\n",
       "      <td>31</td>\n",
       "      <td>311</td>\n",
       "      <td>about_to_sleep</td>\n",
       "    </tr>\n",
       "    <tr>\n",
       "      <th>4</th>\n",
       "      <td>d6ea1074-f1f5-11e9-9346-000d3a38a36f</td>\n",
       "      <td>86</td>\n",
       "      <td>2.00</td>\n",
       "      <td>209.98</td>\n",
       "      <td>31</td>\n",
       "      <td>311</td>\n",
       "      <td>about_to_sleep</td>\n",
       "    </tr>\n",
       "  </tbody>\n",
       "</table>\n",
       "</div>"
      ],
      "text/plain": [
       "                            customer_id  recency  frequency  monetary RF_SCORE RFM_SCORE          segment\n",
       "0  cc294636-19f0-11eb-8d74-000d3a38a36f       95       5.00    939.37       34       344  loyal_customers\n",
       "1  f431bd5a-ab7b-11e9-a2fc-000d3a38a36f      105      21.00   2013.55       35       355  loyal_customers\n",
       "2  69b69676-1a40-11ea-941b-000d3a38a36f      186       5.00    585.32       24       243          at_Risk\n",
       "3  1854e56c-491f-11eb-806e-000d3a38a36f      135       2.00    121.97       31       311   about_to_sleep\n",
       "4  d6ea1074-f1f5-11e9-9346-000d3a38a36f       86       2.00    209.98       31       311   about_to_sleep"
      ]
     },
     "execution_count": 48,
     "metadata": {},
     "output_type": "execute_result"
    }
   ],
   "source": [
    "func_rfm.head()"
   ]
  },
  {
   "cell_type": "code",
   "execution_count": 49,
   "id": "5f8f23c8b8b78cb8",
   "metadata": {
    "ExecuteTime": {
     "end_time": "2024-08-28T23:40:40.453671Z",
     "start_time": "2024-08-28T23:40:40.214039Z"
    }
   },
   "outputs": [
    {
     "data": {
      "image/png": "[encoded data removed]",
      "text/plain": [
       "<Figure size 1000x700 with 1 Axes>"
      ]
     },
     "metadata": {},
     "output_type": "display_data"
    }
   ],
   "source": [
    "sgm= rfm[\"segment\"].value_counts()\n",
    "plt.figure(figsize=(10,7))\n",
    "sns.barplot(x=sgm.index,y=sgm.values)\n",
    "plt.xticks(rotation=45)\n",
    "plt.title('Customer Segments',color = 'blue',fontsize=15)\n",
    "plt.show()"
   ]
  }
 ],
 "metadata": {
  "kernelspec": {
   "display_name": "Python 3",
   "language": "python",
   "name": "python3"
  },
  "language_info": {
   "codemirror_mode": {
    "name": "ipython",
    "version": 3
   },
   "file_extension": ".py",
   "mimetype": "text/x-python",
   "name": "python",
   "nbconvert_exporter": "python",
   "pygments_lexer": "ipython3",
   "version": "3.9.12"
  }
 },
 "nbformat": 4,
 "nbformat_minor": 5
}
